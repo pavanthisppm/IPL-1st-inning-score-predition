{
 "cells": [
  {
   "cell_type": "markdown",
   "id": "9575dd34",
   "metadata": {
    "id": "9575dd34"
   },
   "source": [
    "Importing Libraries "
   ]
  },
  {
   "cell_type": "code",
   "execution_count": 7,
   "id": "c83f4376",
   "metadata": {
    "id": "c83f4376"
   },
   "outputs": [],
   "source": [
    "import numpy as np\n",
    "import pandas as pd \n",
    "import matplotlib.pyplot as plt\n",
    "import seaborn as sns\n",
    "import pickle\n",
    "from sklearn.model_selection import train_test_split\n",
    "from sklearn.linear_model import LinearRegression, Ridge, Lasso, ElasticNet\n",
    "from sklearn.ensemble import RandomForestRegressor\n",
    "from sklearn.neural_network import MLPRegressor\n",
    "from sklearn.model_selection import GridSearchCV\n",
    "from sklearn.metrics import mean_absolute_error as mae, mean_squared_error as mse , mean_absolute_percentage_error as mape"
   ]
  },
  {
   "cell_type": "markdown",
   "id": "_xV2hTF93lp7",
   "metadata": {
    "id": "_xV2hTF93lp7"
   },
   "source": [
    "Loading the dataset"
   ]
  },
  {
   "cell_type": "code",
   "execution_count": 2,
   "id": "dee955d7",
   "metadata": {
    "id": "dee955d7"
   },
   "outputs": [],
   "source": [
    "data = pd.read_csv('data.csv')"
   ]
  },
  {
   "cell_type": "markdown",
   "id": "sChYV7kI3yUk",
   "metadata": {
    "id": "sChYV7kI3yUk"
   },
   "source": [
    "# Exploring the dataset"
   ]
  },
  {
   "cell_type": "code",
   "execution_count": 3,
   "id": "Wz8zvpRUVGUu",
   "metadata": {
    "colab": {
     "base_uri": "https://localhost:8080/",
     "height": 461
    },
    "id": "Wz8zvpRUVGUu",
    "outputId": "ac947339-3c80-4973-dabb-4f7694767286"
   },
   "outputs": [
    {
     "data": {
      "text/html": [
       "<div>\n",
       "<style scoped>\n",
       "    .dataframe tbody tr th:only-of-type {\n",
       "        vertical-align: middle;\n",
       "    }\n",
       "\n",
       "    .dataframe tbody tr th {\n",
       "        vertical-align: top;\n",
       "    }\n",
       "\n",
       "    .dataframe thead th {\n",
       "        text-align: right;\n",
       "    }\n",
       "</style>\n",
       "<table border=\"1\" class=\"dataframe\">\n",
       "  <thead>\n",
       "    <tr style=\"text-align: right;\">\n",
       "      <th></th>\n",
       "      <th>mid</th>\n",
       "      <th>date</th>\n",
       "      <th>venue</th>\n",
       "      <th>batting_team</th>\n",
       "      <th>bowling_team</th>\n",
       "      <th>batsman</th>\n",
       "      <th>bowler</th>\n",
       "      <th>runs</th>\n",
       "      <th>wickets</th>\n",
       "      <th>overs</th>\n",
       "      <th>runs_last_5</th>\n",
       "      <th>wickets_last_5</th>\n",
       "      <th>striker</th>\n",
       "      <th>non-striker</th>\n",
       "      <th>total</th>\n",
       "    </tr>\n",
       "  </thead>\n",
       "  <tbody>\n",
       "    <tr>\n",
       "      <th>0</th>\n",
       "      <td>1</td>\n",
       "      <td>2008-04-18</td>\n",
       "      <td>M Chinnaswamy Stadium</td>\n",
       "      <td>Kolkata Knight Riders</td>\n",
       "      <td>Royal Challengers Bangalore</td>\n",
       "      <td>SC Ganguly</td>\n",
       "      <td>P Kumar</td>\n",
       "      <td>1</td>\n",
       "      <td>0</td>\n",
       "      <td>0.1</td>\n",
       "      <td>1</td>\n",
       "      <td>0</td>\n",
       "      <td>0</td>\n",
       "      <td>0</td>\n",
       "      <td>222</td>\n",
       "    </tr>\n",
       "    <tr>\n",
       "      <th>1</th>\n",
       "      <td>1</td>\n",
       "      <td>2008-04-18</td>\n",
       "      <td>M Chinnaswamy Stadium</td>\n",
       "      <td>Kolkata Knight Riders</td>\n",
       "      <td>Royal Challengers Bangalore</td>\n",
       "      <td>BB McCullum</td>\n",
       "      <td>P Kumar</td>\n",
       "      <td>1</td>\n",
       "      <td>0</td>\n",
       "      <td>0.2</td>\n",
       "      <td>1</td>\n",
       "      <td>0</td>\n",
       "      <td>0</td>\n",
       "      <td>0</td>\n",
       "      <td>222</td>\n",
       "    </tr>\n",
       "    <tr>\n",
       "      <th>2</th>\n",
       "      <td>1</td>\n",
       "      <td>2008-04-18</td>\n",
       "      <td>M Chinnaswamy Stadium</td>\n",
       "      <td>Kolkata Knight Riders</td>\n",
       "      <td>Royal Challengers Bangalore</td>\n",
       "      <td>BB McCullum</td>\n",
       "      <td>P Kumar</td>\n",
       "      <td>2</td>\n",
       "      <td>0</td>\n",
       "      <td>0.2</td>\n",
       "      <td>2</td>\n",
       "      <td>0</td>\n",
       "      <td>0</td>\n",
       "      <td>0</td>\n",
       "      <td>222</td>\n",
       "    </tr>\n",
       "    <tr>\n",
       "      <th>3</th>\n",
       "      <td>1</td>\n",
       "      <td>2008-04-18</td>\n",
       "      <td>M Chinnaswamy Stadium</td>\n",
       "      <td>Kolkata Knight Riders</td>\n",
       "      <td>Royal Challengers Bangalore</td>\n",
       "      <td>BB McCullum</td>\n",
       "      <td>P Kumar</td>\n",
       "      <td>2</td>\n",
       "      <td>0</td>\n",
       "      <td>0.3</td>\n",
       "      <td>2</td>\n",
       "      <td>0</td>\n",
       "      <td>0</td>\n",
       "      <td>0</td>\n",
       "      <td>222</td>\n",
       "    </tr>\n",
       "    <tr>\n",
       "      <th>4</th>\n",
       "      <td>1</td>\n",
       "      <td>2008-04-18</td>\n",
       "      <td>M Chinnaswamy Stadium</td>\n",
       "      <td>Kolkata Knight Riders</td>\n",
       "      <td>Royal Challengers Bangalore</td>\n",
       "      <td>BB McCullum</td>\n",
       "      <td>P Kumar</td>\n",
       "      <td>2</td>\n",
       "      <td>0</td>\n",
       "      <td>0.4</td>\n",
       "      <td>2</td>\n",
       "      <td>0</td>\n",
       "      <td>0</td>\n",
       "      <td>0</td>\n",
       "      <td>222</td>\n",
       "    </tr>\n",
       "  </tbody>\n",
       "</table>\n",
       "</div>"
      ],
      "text/plain": [
       "   mid        date                  venue           batting_team  \\\n",
       "0    1  2008-04-18  M Chinnaswamy Stadium  Kolkata Knight Riders   \n",
       "1    1  2008-04-18  M Chinnaswamy Stadium  Kolkata Knight Riders   \n",
       "2    1  2008-04-18  M Chinnaswamy Stadium  Kolkata Knight Riders   \n",
       "3    1  2008-04-18  M Chinnaswamy Stadium  Kolkata Knight Riders   \n",
       "4    1  2008-04-18  M Chinnaswamy Stadium  Kolkata Knight Riders   \n",
       "\n",
       "                  bowling_team      batsman   bowler  runs  wickets  overs  \\\n",
       "0  Royal Challengers Bangalore   SC Ganguly  P Kumar     1        0    0.1   \n",
       "1  Royal Challengers Bangalore  BB McCullum  P Kumar     1        0    0.2   \n",
       "2  Royal Challengers Bangalore  BB McCullum  P Kumar     2        0    0.2   \n",
       "3  Royal Challengers Bangalore  BB McCullum  P Kumar     2        0    0.3   \n",
       "4  Royal Challengers Bangalore  BB McCullum  P Kumar     2        0    0.4   \n",
       "\n",
       "   runs_last_5  wickets_last_5  striker  non-striker  total  \n",
       "0            1               0        0            0    222  \n",
       "1            1               0        0            0    222  \n",
       "2            2               0        0            0    222  \n",
       "3            2               0        0            0    222  \n",
       "4            2               0        0            0    222  "
      ]
     },
     "execution_count": 3,
     "metadata": {},
     "output_type": "execute_result"
    }
   ],
   "source": [
    "data.head()"
   ]
  },
  {
   "cell_type": "code",
   "execution_count": 4,
   "id": "B3BidGGA4C3G",
   "metadata": {
    "colab": {
     "base_uri": "https://localhost:8080/"
    },
    "id": "B3BidGGA4C3G",
    "outputId": "3ae905c1-0ce1-4f1a-cc5e-6c8290498b0e"
   },
   "outputs": [
    {
     "data": {
      "text/plain": [
       "(76014, 15)"
      ]
     },
     "execution_count": 4,
     "metadata": {},
     "output_type": "execute_result"
    }
   ],
   "source": [
    "# number of rows and columns\n",
    "data.shape"
   ]
  },
  {
   "cell_type": "code",
   "execution_count": 5,
   "id": "KI3b0iVXvNLi",
   "metadata": {
    "colab": {
     "base_uri": "https://localhost:8080/"
    },
    "id": "KI3b0iVXvNLi",
    "outputId": "bdc3c883-b3cd-473a-b3a1-2d40774d0296"
   },
   "outputs": [
    {
     "data": {
      "text/plain": [
       "mid                 int64\n",
       "date               object\n",
       "venue              object\n",
       "batting_team       object\n",
       "bowling_team       object\n",
       "batsman            object\n",
       "bowler             object\n",
       "runs                int64\n",
       "wickets             int64\n",
       "overs             float64\n",
       "runs_last_5         int64\n",
       "wickets_last_5      int64\n",
       "striker             int64\n",
       "non-striker         int64\n",
       "total               int64\n",
       "dtype: object"
      ]
     },
     "execution_count": 5,
     "metadata": {},
     "output_type": "execute_result"
    }
   ],
   "source": [
    "# data types\n",
    "data.dtypes"
   ]
  },
  {
   "cell_type": "code",
   "execution_count": 7,
   "id": "EoCky7VI4RQv",
   "metadata": {
    "colab": {
     "base_uri": "https://localhost:8080/"
    },
    "id": "EoCky7VI4RQv",
    "outputId": "3b33c730-15be-4c90-e719-9652753b2959"
   },
   "outputs": [
    {
     "data": {
      "text/plain": [
       "mid               0\n",
       "date              0\n",
       "venue             0\n",
       "batting_team      0\n",
       "bowling_team      0\n",
       "batsman           0\n",
       "bowler            0\n",
       "runs              0\n",
       "wickets           0\n",
       "overs             0\n",
       "runs_last_5       0\n",
       "wickets_last_5    0\n",
       "striker           0\n",
       "non-striker       0\n",
       "total             0\n",
       "dtype: int64"
      ]
     },
     "execution_count": 7,
     "metadata": {},
     "output_type": "execute_result"
    }
   ],
   "source": [
    "# check are there any missing values\n",
    "data.isnull().sum()"
   ]
  },
  {
   "cell_type": "code",
   "execution_count": 8,
   "id": "fZBV1BYx4b0P",
   "metadata": {
    "colab": {
     "base_uri": "https://localhost:8080/"
    },
    "id": "fZBV1BYx4b0P",
    "outputId": "93e61fde-32a8-4ffb-c317-c4f08b4bb473"
   },
   "outputs": [
    {
     "data": {
      "text/plain": [
       "0"
      ]
     },
     "execution_count": 8,
     "metadata": {},
     "output_type": "execute_result"
    }
   ],
   "source": [
    "# check are there any duplicates\n",
    "data.duplicated().sum()"
   ]
  },
  {
   "cell_type": "markdown",
   "id": "500c4267",
   "metadata": {
    "id": "500c4267"
   },
   "source": [
    "# Cleaning Data\n",
    "\n"
   ]
  },
  {
   "cell_type": "code",
   "execution_count": 9,
   "id": "CYt-y2lzwnEa",
   "metadata": {
    "colab": {
     "base_uri": "https://localhost:8080/",
     "height": 206
    },
    "id": "CYt-y2lzwnEa",
    "outputId": "82809325-b9bb-4503-c252-897db2568212"
   },
   "outputs": [
    {
     "data": {
      "text/html": [
       "<div>\n",
       "<style scoped>\n",
       "    .dataframe tbody tr th:only-of-type {\n",
       "        vertical-align: middle;\n",
       "    }\n",
       "\n",
       "    .dataframe tbody tr th {\n",
       "        vertical-align: top;\n",
       "    }\n",
       "\n",
       "    .dataframe thead th {\n",
       "        text-align: right;\n",
       "    }\n",
       "</style>\n",
       "<table border=\"1\" class=\"dataframe\">\n",
       "  <thead>\n",
       "    <tr style=\"text-align: right;\">\n",
       "      <th></th>\n",
       "      <th>batting_team</th>\n",
       "      <th>bowling_team</th>\n",
       "      <th>runs</th>\n",
       "      <th>wickets</th>\n",
       "      <th>overs</th>\n",
       "      <th>runs_last_5</th>\n",
       "      <th>wickets_last_5</th>\n",
       "      <th>total</th>\n",
       "    </tr>\n",
       "  </thead>\n",
       "  <tbody>\n",
       "    <tr>\n",
       "      <th>0</th>\n",
       "      <td>Kolkata Knight Riders</td>\n",
       "      <td>Royal Challengers Bangalore</td>\n",
       "      <td>1</td>\n",
       "      <td>0</td>\n",
       "      <td>0.1</td>\n",
       "      <td>1</td>\n",
       "      <td>0</td>\n",
       "      <td>222</td>\n",
       "    </tr>\n",
       "    <tr>\n",
       "      <th>1</th>\n",
       "      <td>Kolkata Knight Riders</td>\n",
       "      <td>Royal Challengers Bangalore</td>\n",
       "      <td>1</td>\n",
       "      <td>0</td>\n",
       "      <td>0.2</td>\n",
       "      <td>1</td>\n",
       "      <td>0</td>\n",
       "      <td>222</td>\n",
       "    </tr>\n",
       "    <tr>\n",
       "      <th>2</th>\n",
       "      <td>Kolkata Knight Riders</td>\n",
       "      <td>Royal Challengers Bangalore</td>\n",
       "      <td>2</td>\n",
       "      <td>0</td>\n",
       "      <td>0.2</td>\n",
       "      <td>2</td>\n",
       "      <td>0</td>\n",
       "      <td>222</td>\n",
       "    </tr>\n",
       "    <tr>\n",
       "      <th>3</th>\n",
       "      <td>Kolkata Knight Riders</td>\n",
       "      <td>Royal Challengers Bangalore</td>\n",
       "      <td>2</td>\n",
       "      <td>0</td>\n",
       "      <td>0.3</td>\n",
       "      <td>2</td>\n",
       "      <td>0</td>\n",
       "      <td>222</td>\n",
       "    </tr>\n",
       "    <tr>\n",
       "      <th>4</th>\n",
       "      <td>Kolkata Knight Riders</td>\n",
       "      <td>Royal Challengers Bangalore</td>\n",
       "      <td>2</td>\n",
       "      <td>0</td>\n",
       "      <td>0.4</td>\n",
       "      <td>2</td>\n",
       "      <td>0</td>\n",
       "      <td>222</td>\n",
       "    </tr>\n",
       "  </tbody>\n",
       "</table>\n",
       "</div>"
      ],
      "text/plain": [
       "            batting_team                 bowling_team  runs  wickets  overs  \\\n",
       "0  Kolkata Knight Riders  Royal Challengers Bangalore     1        0    0.1   \n",
       "1  Kolkata Knight Riders  Royal Challengers Bangalore     1        0    0.2   \n",
       "2  Kolkata Knight Riders  Royal Challengers Bangalore     2        0    0.2   \n",
       "3  Kolkata Knight Riders  Royal Challengers Bangalore     2        0    0.3   \n",
       "4  Kolkata Knight Riders  Royal Challengers Bangalore     2        0    0.4   \n",
       "\n",
       "   runs_last_5  wickets_last_5  total  \n",
       "0            1               0    222  \n",
       "1            1               0    222  \n",
       "2            2               0    222  \n",
       "3            2               0    222  \n",
       "4            2               0    222  "
      ]
     },
     "execution_count": 9,
     "metadata": {},
     "output_type": "execute_result"
    }
   ],
   "source": [
    "# Remove unnecessary variables\n",
    "irrelevent = ['date','mid','batsman','bowler','striker','non-striker','venue']\n",
    "data1 = data.drop(irrelevent, axis=1)\n",
    "data1.head()"
   ]
  },
  {
   "cell_type": "code",
   "execution_count": 10,
   "id": "b266caf8",
   "metadata": {
    "colab": {
     "base_uri": "https://localhost:8080/"
    },
    "id": "b266caf8",
    "outputId": "1a8a00a1-1cf4-4f8d-d853-b106816f9a48"
   },
   "outputs": [
    {
     "name": "stdout",
     "output_type": "stream",
     "text": [
      "Batting Teams:  ['Kolkata Knight Riders' 'Chennai Super Kings' 'Rajasthan Royals'\n",
      " 'Mumbai Indians' 'Deccan Chargers' 'Kings XI Punjab'\n",
      " 'Royal Challengers Bangalore' 'Delhi Daredevils' 'Kochi Tuskers Kerala'\n",
      " 'Pune Warriors' 'Sunrisers Hyderabad' 'Rising Pune Supergiants'\n",
      " 'Gujarat Lions' 'Rising Pune Supergiant'] \n",
      "\n",
      "Bowling Teams:  ['Royal Challengers Bangalore' 'Kings XI Punjab' 'Delhi Daredevils'\n",
      " 'Kolkata Knight Riders' 'Rajasthan Royals' 'Mumbai Indians'\n",
      " 'Chennai Super Kings' 'Deccan Chargers' 'Pune Warriors'\n",
      " 'Kochi Tuskers Kerala' 'Sunrisers Hyderabad' 'Rising Pune Supergiants'\n",
      " 'Gujarat Lions' 'Rising Pune Supergiant']\n"
     ]
    }
   ],
   "source": [
    "# Find team names\n",
    "print('Batting Teams: ',data1['batting_team'].unique(),'\\n')\n",
    "print('Bowling Teams: ',data1['bowling_team'].unique())"
   ]
  },
  {
   "cell_type": "code",
   "execution_count": 11,
   "id": "53f7da1a",
   "metadata": {
    "id": "53f7da1a"
   },
   "outputs": [],
   "source": [
    "# Team Name Changes\n",
    "data2 = data1.replace(['Deccan Chargers', 'Delhi Daredevils', 'Kings XI Punjab'], ['Sunrisers Hyderabad', 'Delhi Capitals', 'Punjab Kings'], regex = False)"
   ]
  },
  {
   "cell_type": "code",
   "execution_count": 12,
   "id": "Q5xr8WXy9zC7",
   "metadata": {
    "colab": {
     "base_uri": "https://localhost:8080/"
    },
    "id": "Q5xr8WXy9zC7",
    "outputId": "7ba53c95-854f-4500-81bc-b9e89ebac9a2"
   },
   "outputs": [
    {
     "name": "stdout",
     "output_type": "stream",
     "text": [
      "Batting Teams:  ['Kolkata Knight Riders' 'Chennai Super Kings' 'Rajasthan Royals'\n",
      " 'Mumbai Indians' 'Deccan Chargers' 'Kings XI Punjab'\n",
      " 'Royal Challengers Bangalore' 'Delhi Daredevils' 'Kochi Tuskers Kerala'\n",
      " 'Pune Warriors' 'Sunrisers Hyderabad' 'Rising Pune Supergiants'\n",
      " 'Gujarat Lions' 'Rising Pune Supergiant'] \n",
      "\n",
      "Bowling Teams:  ['Royal Challengers Bangalore' 'Kings XI Punjab' 'Delhi Daredevils'\n",
      " 'Kolkata Knight Riders' 'Rajasthan Royals' 'Mumbai Indians'\n",
      " 'Chennai Super Kings' 'Deccan Chargers' 'Pune Warriors'\n",
      " 'Kochi Tuskers Kerala' 'Sunrisers Hyderabad' 'Rising Pune Supergiants'\n",
      " 'Gujarat Lions' 'Rising Pune Supergiant']\n"
     ]
    }
   ],
   "source": [
    "# check team names\n",
    "print('Batting Teams: ',data1['batting_team'].unique(),'\\n')\n",
    "print('Bowling Teams: ',data1['bowling_team'].unique())"
   ]
  },
  {
   "cell_type": "code",
   "execution_count": 13,
   "id": "8626e3b9",
   "metadata": {
    "colab": {
     "base_uri": "https://localhost:8080/",
     "height": 206
    },
    "id": "8626e3b9",
    "outputId": "24a90e41-1e4f-4388-ee33-654fad236f99"
   },
   "outputs": [
    {
     "data": {
      "text/html": [
       "<div>\n",
       "<style scoped>\n",
       "    .dataframe tbody tr th:only-of-type {\n",
       "        vertical-align: middle;\n",
       "    }\n",
       "\n",
       "    .dataframe tbody tr th {\n",
       "        vertical-align: top;\n",
       "    }\n",
       "\n",
       "    .dataframe thead th {\n",
       "        text-align: right;\n",
       "    }\n",
       "</style>\n",
       "<table border=\"1\" class=\"dataframe\">\n",
       "  <thead>\n",
       "    <tr style=\"text-align: right;\">\n",
       "      <th></th>\n",
       "      <th>batting_team</th>\n",
       "      <th>bowling_team</th>\n",
       "      <th>runs</th>\n",
       "      <th>wickets</th>\n",
       "      <th>overs</th>\n",
       "      <th>runs_last_5</th>\n",
       "      <th>wickets_last_5</th>\n",
       "      <th>total</th>\n",
       "    </tr>\n",
       "  </thead>\n",
       "  <tbody>\n",
       "    <tr>\n",
       "      <th>0</th>\n",
       "      <td>Kolkata Knight Riders</td>\n",
       "      <td>Royal Challengers Bangalore</td>\n",
       "      <td>1</td>\n",
       "      <td>0</td>\n",
       "      <td>0.1</td>\n",
       "      <td>1</td>\n",
       "      <td>0</td>\n",
       "      <td>222</td>\n",
       "    </tr>\n",
       "    <tr>\n",
       "      <th>1</th>\n",
       "      <td>Kolkata Knight Riders</td>\n",
       "      <td>Royal Challengers Bangalore</td>\n",
       "      <td>1</td>\n",
       "      <td>0</td>\n",
       "      <td>0.2</td>\n",
       "      <td>1</td>\n",
       "      <td>0</td>\n",
       "      <td>222</td>\n",
       "    </tr>\n",
       "    <tr>\n",
       "      <th>2</th>\n",
       "      <td>Kolkata Knight Riders</td>\n",
       "      <td>Royal Challengers Bangalore</td>\n",
       "      <td>2</td>\n",
       "      <td>0</td>\n",
       "      <td>0.2</td>\n",
       "      <td>2</td>\n",
       "      <td>0</td>\n",
       "      <td>222</td>\n",
       "    </tr>\n",
       "    <tr>\n",
       "      <th>3</th>\n",
       "      <td>Kolkata Knight Riders</td>\n",
       "      <td>Royal Challengers Bangalore</td>\n",
       "      <td>2</td>\n",
       "      <td>0</td>\n",
       "      <td>0.3</td>\n",
       "      <td>2</td>\n",
       "      <td>0</td>\n",
       "      <td>222</td>\n",
       "    </tr>\n",
       "    <tr>\n",
       "      <th>4</th>\n",
       "      <td>Kolkata Knight Riders</td>\n",
       "      <td>Royal Challengers Bangalore</td>\n",
       "      <td>2</td>\n",
       "      <td>0</td>\n",
       "      <td>0.4</td>\n",
       "      <td>2</td>\n",
       "      <td>0</td>\n",
       "      <td>222</td>\n",
       "    </tr>\n",
       "  </tbody>\n",
       "</table>\n",
       "</div>"
      ],
      "text/plain": [
       "            batting_team                 bowling_team  runs  wickets  overs  \\\n",
       "0  Kolkata Knight Riders  Royal Challengers Bangalore     1        0    0.1   \n",
       "1  Kolkata Knight Riders  Royal Challengers Bangalore     1        0    0.2   \n",
       "2  Kolkata Knight Riders  Royal Challengers Bangalore     2        0    0.2   \n",
       "3  Kolkata Knight Riders  Royal Challengers Bangalore     2        0    0.3   \n",
       "4  Kolkata Knight Riders  Royal Challengers Bangalore     2        0    0.4   \n",
       "\n",
       "   runs_last_5  wickets_last_5  total  \n",
       "0            1               0    222  \n",
       "1            1               0    222  \n",
       "2            2               0    222  \n",
       "3            2               0    222  \n",
       "4            2               0    222  "
      ]
     },
     "execution_count": 13,
     "metadata": {},
     "output_type": "execute_result"
    }
   ],
   "source": [
    "# Removing teams that are not currently playing\n",
    "requiredTeams = ['Royal Challengers Bangalore', 'Punjab Kings', 'Delhi Capitals',\n",
    "       'Kolkata Knight Riders', 'Rajasthan Royals', 'Mumbai Indians',\n",
    "       'Chennai Super Kings', 'Sunrisers Hyderabad']\n",
    "data3 = data2[(data2['batting_team'].isin(requiredTeams)) & (data2['bowling_team'].isin(requiredTeams))]\n",
    "data3.head()"
   ]
  },
  {
   "cell_type": "code",
   "execution_count": 14,
   "id": "2164e3ee",
   "metadata": {
    "colab": {
     "base_uri": "https://localhost:8080/",
     "height": 206
    },
    "id": "2164e3ee",
    "outputId": "250fb01a-abac-40e0-8f65-1f569391165d"
   },
   "outputs": [
    {
     "data": {
      "text/html": [
       "<div>\n",
       "<style scoped>\n",
       "    .dataframe tbody tr th:only-of-type {\n",
       "        vertical-align: middle;\n",
       "    }\n",
       "\n",
       "    .dataframe tbody tr th {\n",
       "        vertical-align: top;\n",
       "    }\n",
       "\n",
       "    .dataframe thead th {\n",
       "        text-align: right;\n",
       "    }\n",
       "</style>\n",
       "<table border=\"1\" class=\"dataframe\">\n",
       "  <thead>\n",
       "    <tr style=\"text-align: right;\">\n",
       "      <th></th>\n",
       "      <th>batting_team</th>\n",
       "      <th>bowling_team</th>\n",
       "      <th>runs</th>\n",
       "      <th>wickets</th>\n",
       "      <th>overs</th>\n",
       "      <th>runs_last_5</th>\n",
       "      <th>wickets_last_5</th>\n",
       "      <th>total</th>\n",
       "    </tr>\n",
       "  </thead>\n",
       "  <tbody>\n",
       "    <tr>\n",
       "      <th>32</th>\n",
       "      <td>Kolkata Knight Riders</td>\n",
       "      <td>Royal Challengers Bangalore</td>\n",
       "      <td>61</td>\n",
       "      <td>0</td>\n",
       "      <td>5.1</td>\n",
       "      <td>59</td>\n",
       "      <td>0</td>\n",
       "      <td>222</td>\n",
       "    </tr>\n",
       "    <tr>\n",
       "      <th>33</th>\n",
       "      <td>Kolkata Knight Riders</td>\n",
       "      <td>Royal Challengers Bangalore</td>\n",
       "      <td>61</td>\n",
       "      <td>1</td>\n",
       "      <td>5.2</td>\n",
       "      <td>59</td>\n",
       "      <td>1</td>\n",
       "      <td>222</td>\n",
       "    </tr>\n",
       "    <tr>\n",
       "      <th>34</th>\n",
       "      <td>Kolkata Knight Riders</td>\n",
       "      <td>Royal Challengers Bangalore</td>\n",
       "      <td>61</td>\n",
       "      <td>1</td>\n",
       "      <td>5.3</td>\n",
       "      <td>59</td>\n",
       "      <td>1</td>\n",
       "      <td>222</td>\n",
       "    </tr>\n",
       "    <tr>\n",
       "      <th>35</th>\n",
       "      <td>Kolkata Knight Riders</td>\n",
       "      <td>Royal Challengers Bangalore</td>\n",
       "      <td>61</td>\n",
       "      <td>1</td>\n",
       "      <td>5.4</td>\n",
       "      <td>59</td>\n",
       "      <td>1</td>\n",
       "      <td>222</td>\n",
       "    </tr>\n",
       "    <tr>\n",
       "      <th>36</th>\n",
       "      <td>Kolkata Knight Riders</td>\n",
       "      <td>Royal Challengers Bangalore</td>\n",
       "      <td>61</td>\n",
       "      <td>1</td>\n",
       "      <td>5.5</td>\n",
       "      <td>58</td>\n",
       "      <td>1</td>\n",
       "      <td>222</td>\n",
       "    </tr>\n",
       "  </tbody>\n",
       "</table>\n",
       "</div>"
      ],
      "text/plain": [
       "             batting_team                 bowling_team  runs  wickets  overs  \\\n",
       "32  Kolkata Knight Riders  Royal Challengers Bangalore    61        0    5.1   \n",
       "33  Kolkata Knight Riders  Royal Challengers Bangalore    61        1    5.2   \n",
       "34  Kolkata Knight Riders  Royal Challengers Bangalore    61        1    5.3   \n",
       "35  Kolkata Knight Riders  Royal Challengers Bangalore    61        1    5.4   \n",
       "36  Kolkata Knight Riders  Royal Challengers Bangalore    61        1    5.5   \n",
       "\n",
       "    runs_last_5  wickets_last_5  total  \n",
       "32           59               0    222  \n",
       "33           59               1    222  \n",
       "34           59               1    222  \n",
       "35           59               1    222  \n",
       "36           58               1    222  "
      ]
     },
     "execution_count": 14,
     "metadata": {},
     "output_type": "execute_result"
    }
   ],
   "source": [
    "# Removing the 1st 5 overs\n",
    "data4 = data3.loc[(data3['overs']>5.0)]\n",
    "data4.head()"
   ]
  },
  {
   "cell_type": "markdown",
   "id": "RXPT-0kTZGPj",
   "metadata": {
    "id": "RXPT-0kTZGPj"
   },
   "source": [
    "# Splitting the data into train and test set"
   ]
  },
  {
   "cell_type": "code",
   "execution_count": 15,
   "id": "HDrgLvh7ZIoa",
   "metadata": {
    "id": "HDrgLvh7ZIoa"
   },
   "outputs": [],
   "source": [
    "X = data4.drop(['total'], axis=1)\n",
    "y = data4['total']"
   ]
  },
  {
   "cell_type": "code",
   "execution_count": 16,
   "id": "nMyhgEV_xgDm",
   "metadata": {
    "id": "nMyhgEV_xgDm"
   },
   "outputs": [],
   "source": [
    "X_train, X_test, Y_train, Y_test = train_test_split(X, y, test_size = 0.2, random_state = 0)"
   ]
  },
  {
   "cell_type": "markdown",
   "id": "-WFM5YsglIc6",
   "metadata": {
    "id": "-WFM5YsglIc6"
   },
   "source": [
    "# Data analysis and Visualization"
   ]
  },
  {
   "cell_type": "code",
   "execution_count": 17,
   "id": "P9kzcWWBx2Qi",
   "metadata": {
    "colab": {
     "base_uri": "https://localhost:8080/",
     "height": 206
    },
    "id": "P9kzcWWBx2Qi",
    "outputId": "469e4dad-465d-4416-fee7-8f33b2d0c60c"
   },
   "outputs": [
    {
     "data": {
      "text/html": [
       "<div>\n",
       "<style scoped>\n",
       "    .dataframe tbody tr th:only-of-type {\n",
       "        vertical-align: middle;\n",
       "    }\n",
       "\n",
       "    .dataframe tbody tr th {\n",
       "        vertical-align: top;\n",
       "    }\n",
       "\n",
       "    .dataframe thead th {\n",
       "        text-align: right;\n",
       "    }\n",
       "</style>\n",
       "<table border=\"1\" class=\"dataframe\">\n",
       "  <thead>\n",
       "    <tr style=\"text-align: right;\">\n",
       "      <th></th>\n",
       "      <th>batting_team</th>\n",
       "      <th>bowling_team</th>\n",
       "      <th>runs</th>\n",
       "      <th>wickets</th>\n",
       "      <th>overs</th>\n",
       "      <th>runs_last_5</th>\n",
       "      <th>wickets_last_5</th>\n",
       "      <th>total</th>\n",
       "    </tr>\n",
       "  </thead>\n",
       "  <tbody>\n",
       "    <tr>\n",
       "      <th>54707</th>\n",
       "      <td>Rajasthan Royals</td>\n",
       "      <td>Mumbai Indians</td>\n",
       "      <td>142</td>\n",
       "      <td>3</td>\n",
       "      <td>16.2</td>\n",
       "      <td>59</td>\n",
       "      <td>2</td>\n",
       "      <td>189</td>\n",
       "    </tr>\n",
       "    <tr>\n",
       "      <th>25639</th>\n",
       "      <td>Mumbai Indians</td>\n",
       "      <td>Punjab Kings</td>\n",
       "      <td>35</td>\n",
       "      <td>1</td>\n",
       "      <td>5.4</td>\n",
       "      <td>33</td>\n",
       "      <td>1</td>\n",
       "      <td>159</td>\n",
       "    </tr>\n",
       "    <tr>\n",
       "      <th>55544</th>\n",
       "      <td>Rajasthan Royals</td>\n",
       "      <td>Punjab Kings</td>\n",
       "      <td>82</td>\n",
       "      <td>5</td>\n",
       "      <td>11.4</td>\n",
       "      <td>36</td>\n",
       "      <td>2</td>\n",
       "      <td>162</td>\n",
       "    </tr>\n",
       "    <tr>\n",
       "      <th>33896</th>\n",
       "      <td>Punjab Kings</td>\n",
       "      <td>Chennai Super Kings</td>\n",
       "      <td>76</td>\n",
       "      <td>1</td>\n",
       "      <td>9.5</td>\n",
       "      <td>38</td>\n",
       "      <td>1</td>\n",
       "      <td>156</td>\n",
       "    </tr>\n",
       "    <tr>\n",
       "      <th>3850</th>\n",
       "      <td>Chennai Super Kings</td>\n",
       "      <td>Punjab Kings</td>\n",
       "      <td>100</td>\n",
       "      <td>3</td>\n",
       "      <td>10.6</td>\n",
       "      <td>46</td>\n",
       "      <td>1</td>\n",
       "      <td>181</td>\n",
       "    </tr>\n",
       "  </tbody>\n",
       "</table>\n",
       "</div>"
      ],
      "text/plain": [
       "              batting_team         bowling_team  runs  wickets  overs  \\\n",
       "54707     Rajasthan Royals       Mumbai Indians   142        3   16.2   \n",
       "25639       Mumbai Indians         Punjab Kings    35        1    5.4   \n",
       "55544     Rajasthan Royals         Punjab Kings    82        5   11.4   \n",
       "33896         Punjab Kings  Chennai Super Kings    76        1    9.5   \n",
       "3850   Chennai Super Kings         Punjab Kings   100        3   10.6   \n",
       "\n",
       "       runs_last_5  wickets_last_5  total  \n",
       "54707           59               2    189  \n",
       "25639           33               1    159  \n",
       "55544           36               2    162  \n",
       "33896           38               1    156  \n",
       "3850            46               1    181  "
      ]
     },
     "execution_count": 17,
     "metadata": {},
     "output_type": "execute_result"
    }
   ],
   "source": [
    "# create train set\n",
    "train = X_train.assign(total = Y_train)\n",
    "train.head()"
   ]
  },
  {
   "cell_type": "code",
   "execution_count": 18,
   "id": "IT9TBHO3d4Yd",
   "metadata": {
    "colab": {
     "base_uri": "https://localhost:8080/"
    },
    "id": "IT9TBHO3d4Yd",
    "outputId": "a5a2faef-5573-4079-8243-39d5e6aed939"
   },
   "outputs": [
    {
     "data": {
      "text/plain": [
       "(37230, 8)"
      ]
     },
     "execution_count": 18,
     "metadata": {},
     "output_type": "execute_result"
    }
   ],
   "source": [
    "#Number of rows and columns\n",
    "train.shape"
   ]
  },
  {
   "cell_type": "code",
   "execution_count": 19,
   "id": "XiC4YsOFEBa0",
   "metadata": {
    "colab": {
     "base_uri": "https://localhost:8080/"
    },
    "id": "XiC4YsOFEBa0",
    "outputId": "cc5f08ab-0499-4302-f9f6-7086531ffc43"
   },
   "outputs": [
    {
     "name": "stdout",
     "output_type": "stream",
     "text": [
      "<class 'pandas.core.frame.DataFrame'>\n",
      "Int64Index: 37230 entries, 54707 to 3707\n",
      "Data columns (total 8 columns):\n",
      " #   Column          Non-Null Count  Dtype  \n",
      "---  ------          --------------  -----  \n",
      " 0   batting_team    37230 non-null  object \n",
      " 1   bowling_team    37230 non-null  object \n",
      " 2   runs            37230 non-null  int64  \n",
      " 3   wickets         37230 non-null  int64  \n",
      " 4   overs           37230 non-null  float64\n",
      " 5   runs_last_5     37230 non-null  int64  \n",
      " 6   wickets_last_5  37230 non-null  int64  \n",
      " 7   total           37230 non-null  int64  \n",
      "dtypes: float64(1), int64(5), object(2)\n",
      "memory usage: 2.6+ MB\n"
     ]
    }
   ],
   "source": [
    "#Data info\n",
    "train.info()"
   ]
  },
  {
   "cell_type": "code",
   "execution_count": 20,
   "id": "8C2sYQFrJmhI",
   "metadata": {
    "colab": {
     "base_uri": "https://localhost:8080/",
     "height": 300
    },
    "id": "8C2sYQFrJmhI",
    "outputId": "406bce47-7f83-43cf-fe43-f527481b63ae"
   },
   "outputs": [
    {
     "data": {
      "text/html": [
       "<div>\n",
       "<style scoped>\n",
       "    .dataframe tbody tr th:only-of-type {\n",
       "        vertical-align: middle;\n",
       "    }\n",
       "\n",
       "    .dataframe tbody tr th {\n",
       "        vertical-align: top;\n",
       "    }\n",
       "\n",
       "    .dataframe thead th {\n",
       "        text-align: right;\n",
       "    }\n",
       "</style>\n",
       "<table border=\"1\" class=\"dataframe\">\n",
       "  <thead>\n",
       "    <tr style=\"text-align: right;\">\n",
       "      <th></th>\n",
       "      <th>runs</th>\n",
       "      <th>wickets</th>\n",
       "      <th>overs</th>\n",
       "      <th>runs_last_5</th>\n",
       "      <th>wickets_last_5</th>\n",
       "      <th>total</th>\n",
       "    </tr>\n",
       "  </thead>\n",
       "  <tbody>\n",
       "    <tr>\n",
       "      <th>count</th>\n",
       "      <td>37230.000000</td>\n",
       "      <td>37230.000000</td>\n",
       "      <td>37230.00000</td>\n",
       "      <td>37230.000000</td>\n",
       "      <td>37230.000000</td>\n",
       "      <td>37230.000000</td>\n",
       "    </tr>\n",
       "    <tr>\n",
       "      <th>mean</th>\n",
       "      <td>94.717674</td>\n",
       "      <td>3.054687</td>\n",
       "      <td>12.31430</td>\n",
       "      <td>38.758797</td>\n",
       "      <td>1.317647</td>\n",
       "      <td>161.717486</td>\n",
       "    </tr>\n",
       "    <tr>\n",
       "      <th>std</th>\n",
       "      <td>40.673409</td>\n",
       "      <td>1.891768</td>\n",
       "      <td>4.32178</td>\n",
       "      <td>11.498618</td>\n",
       "      <td>1.053174</td>\n",
       "      <td>29.143449</td>\n",
       "    </tr>\n",
       "    <tr>\n",
       "      <th>min</th>\n",
       "      <td>13.000000</td>\n",
       "      <td>0.000000</td>\n",
       "      <td>5.10000</td>\n",
       "      <td>10.000000</td>\n",
       "      <td>0.000000</td>\n",
       "      <td>67.000000</td>\n",
       "    </tr>\n",
       "    <tr>\n",
       "      <th>25%</th>\n",
       "      <td>62.000000</td>\n",
       "      <td>2.000000</td>\n",
       "      <td>8.50000</td>\n",
       "      <td>31.000000</td>\n",
       "      <td>1.000000</td>\n",
       "      <td>142.000000</td>\n",
       "    </tr>\n",
       "    <tr>\n",
       "      <th>50%</th>\n",
       "      <td>90.000000</td>\n",
       "      <td>3.000000</td>\n",
       "      <td>12.30000</td>\n",
       "      <td>38.000000</td>\n",
       "      <td>1.000000</td>\n",
       "      <td>163.000000</td>\n",
       "    </tr>\n",
       "    <tr>\n",
       "      <th>75%</th>\n",
       "      <td>123.000000</td>\n",
       "      <td>4.000000</td>\n",
       "      <td>16.20000</td>\n",
       "      <td>46.000000</td>\n",
       "      <td>2.000000</td>\n",
       "      <td>182.000000</td>\n",
       "    </tr>\n",
       "    <tr>\n",
       "      <th>max</th>\n",
       "      <td>246.000000</td>\n",
       "      <td>10.000000</td>\n",
       "      <td>19.60000</td>\n",
       "      <td>94.000000</td>\n",
       "      <td>7.000000</td>\n",
       "      <td>246.000000</td>\n",
       "    </tr>\n",
       "  </tbody>\n",
       "</table>\n",
       "</div>"
      ],
      "text/plain": [
       "               runs       wickets        overs   runs_last_5  wickets_last_5  \\\n",
       "count  37230.000000  37230.000000  37230.00000  37230.000000    37230.000000   \n",
       "mean      94.717674      3.054687     12.31430     38.758797        1.317647   \n",
       "std       40.673409      1.891768      4.32178     11.498618        1.053174   \n",
       "min       13.000000      0.000000      5.10000     10.000000        0.000000   \n",
       "25%       62.000000      2.000000      8.50000     31.000000        1.000000   \n",
       "50%       90.000000      3.000000     12.30000     38.000000        1.000000   \n",
       "75%      123.000000      4.000000     16.20000     46.000000        2.000000   \n",
       "max      246.000000     10.000000     19.60000     94.000000        7.000000   \n",
       "\n",
       "              total  \n",
       "count  37230.000000  \n",
       "mean     161.717486  \n",
       "std       29.143449  \n",
       "min       67.000000  \n",
       "25%      142.000000  \n",
       "50%      163.000000  \n",
       "75%      182.000000  \n",
       "max      246.000000  "
      ]
     },
     "execution_count": 20,
     "metadata": {},
     "output_type": "execute_result"
    }
   ],
   "source": [
    "train.describe()"
   ]
  },
  {
   "cell_type": "code",
   "execution_count": 21,
   "id": "SnUaJUCrwpqU",
   "metadata": {
    "colab": {
     "base_uri": "https://localhost:8080/",
     "height": 206
    },
    "id": "SnUaJUCrwpqU",
    "outputId": "ad1b8750-0328-4faa-dd29-f9c892244046"
   },
   "outputs": [
    {
     "data": {
      "text/html": [
       "<div>\n",
       "<style scoped>\n",
       "    .dataframe tbody tr th:only-of-type {\n",
       "        vertical-align: middle;\n",
       "    }\n",
       "\n",
       "    .dataframe tbody tr th {\n",
       "        vertical-align: top;\n",
       "    }\n",
       "\n",
       "    .dataframe thead th {\n",
       "        text-align: right;\n",
       "    }\n",
       "</style>\n",
       "<table border=\"1\" class=\"dataframe\">\n",
       "  <thead>\n",
       "    <tr style=\"text-align: right;\">\n",
       "      <th></th>\n",
       "      <th>batting_team</th>\n",
       "      <th>bowling_team</th>\n",
       "      <th>total</th>\n",
       "    </tr>\n",
       "  </thead>\n",
       "  <tbody>\n",
       "    <tr>\n",
       "      <th>17502</th>\n",
       "      <td>Chennai Super Kings</td>\n",
       "      <td>Rajasthan Royals</td>\n",
       "      <td>246</td>\n",
       "    </tr>\n",
       "    <tr>\n",
       "      <th>194</th>\n",
       "      <td>Chennai Super Kings</td>\n",
       "      <td>Punjab Kings</td>\n",
       "      <td>240</td>\n",
       "    </tr>\n",
       "    <tr>\n",
       "      <th>60483</th>\n",
       "      <td>Royal Challengers Bangalore</td>\n",
       "      <td>Mumbai Indians</td>\n",
       "      <td>235</td>\n",
       "    </tr>\n",
       "    <tr>\n",
       "      <th>28305</th>\n",
       "      <td>Punjab Kings</td>\n",
       "      <td>Royal Challengers Bangalore</td>\n",
       "      <td>232</td>\n",
       "    </tr>\n",
       "    <tr>\n",
       "      <th>51427</th>\n",
       "      <td>Punjab Kings</td>\n",
       "      <td>Chennai Super Kings</td>\n",
       "      <td>231</td>\n",
       "    </tr>\n",
       "  </tbody>\n",
       "</table>\n",
       "</div>"
      ],
      "text/plain": [
       "                      batting_team                 bowling_team  total\n",
       "17502          Chennai Super Kings             Rajasthan Royals    246\n",
       "194            Chennai Super Kings                 Punjab Kings    240\n",
       "60483  Royal Challengers Bangalore               Mumbai Indians    235\n",
       "28305                 Punjab Kings  Royal Challengers Bangalore    232\n",
       "51427                 Punjab Kings          Chennai Super Kings    231"
      ]
     },
     "execution_count": 21,
     "metadata": {},
     "output_type": "execute_result"
    }
   ],
   "source": [
    "# Highest totals \n",
    "df_total = train.filter(['batting_team', 'bowling_team' , 'total'])\n",
    "df_total = df_total.drop_duplicates(subset = [\"total\"]) \n",
    "df_total = df_total.sort_values([\"total\"], ascending=False)\n",
    "df_total.head()"
   ]
  },
  {
   "cell_type": "code",
   "execution_count": 22,
   "id": "W7vRNnTIKmNc",
   "metadata": {
    "colab": {
     "base_uri": "https://localhost:8080/",
     "height": 350
    },
    "id": "W7vRNnTIKmNc",
    "outputId": "b3c145eb-3a12-4353-b53a-67a8493224e2"
   },
   "outputs": [
    {
     "name": "stderr",
     "output_type": "stream",
     "text": [
      "C:\\Users\\Star Gate\\anaconda3\\lib\\site-packages\\seaborn\\distributions.py:2619: FutureWarning: `distplot` is a deprecated function and will be removed in a future version. Please adapt your code to use either `displot` (a figure-level function with similar flexibility) or `histplot` (an axes-level function for histograms).\n",
      "  warnings.warn(msg, FutureWarning)\n"
     ]
    },
    {
     "data": {
      "image/png": "[encoded data removed]",
      "text/plain": [
       "<Figure size 432x288 with 1 Axes>"
      ]
     },
     "metadata": {
      "needs_background": "light"
     },
     "output_type": "display_data"
    }
   ],
   "source": [
    "# Distribution plot of Total\n",
    "plt.figure(figsize=(6,4))\n",
    "sns.distplot(df_total['total'],color = '#087E8B')\n",
    "plt.title('Distribution of Total')\n",
    "plt.xlabel('Total')\n",
    "plt.ylabel('Density')\n",
    "plt.show()"
   ]
  },
  {
   "cell_type": "code",
   "execution_count": 23,
   "id": "zPAuHhYSFyTj",
   "metadata": {
    "colab": {
     "base_uri": "https://localhost:8080/",
     "height": 329
    },
    "id": "zPAuHhYSFyTj",
    "outputId": "643222ff-8593-410e-9971-6637c8932d98"
   },
   "outputs": [
    {
     "data": {
      "image/png": "[encoded data removed]",
      "text/plain": [
       "<Figure size 1440x432 with 1 Axes>"
      ]
     },
     "metadata": {
      "needs_background": "light"
     },
     "output_type": "display_data"
    }
   ],
   "source": [
    "# Box Plot - Batting team vs Total\n",
    "plt.figure(figsize=(20,6))\n",
    "sns.boxplot(x=\"batting_team\", y=\"total\", data= df_total, showmeans=True, meanprops={\"marker\":\"o\",\n",
    "                       \"markerfacecolor\":\"white\", \n",
    "                       \"markeredgecolor\":\"black\",\n",
    "                      \"markersize\":\"10\"},\n",
    "            palette=\"Blues_r\")\n",
    "plt.title('1st inning total score vs batting team')\n",
    "plt.xlabel('Batting team')\n",
    "plt.ylabel('1st inning total score')\n",
    "plt.show()"
   ]
  },
  {
   "cell_type": "code",
   "execution_count": 24,
   "id": "W--Zdkcg5wyj",
   "metadata": {
    "colab": {
     "base_uri": "https://localhost:8080/",
     "height": 329
    },
    "id": "W--Zdkcg5wyj",
    "outputId": "48bd441f-3206-4693-f421-e649ba0f8664"
   },
   "outputs": [
    {
     "data": {
      "image/png": "[encoded data removed]",
      "text/plain": [
       "<Figure size 1440x432 with 1 Axes>"
      ]
     },
     "metadata": {
      "needs_background": "light"
     },
     "output_type": "display_data"
    }
   ],
   "source": [
    "# Box Plot - Bowling team vs Total\n",
    "plt.figure(figsize=(20,6))\n",
    "sns.boxplot(x=\"bowling_team\", y=\"total\", data=df_total, showmeans=True, meanprops={\"marker\":\"o\",\n",
    "                       \"markerfacecolor\":\"white\", \n",
    "                       \"markeredgecolor\":\"black\",\n",
    "                      \"markersize\":\"10\"},\n",
    "            palette=\"Blues_r\")\n",
    "plt.title('1st inning total score vs bowling team')\n",
    "plt.xlabel('Bowling team')\n",
    "plt.ylabel('1st inning total score')\n",
    "plt.show()"
   ]
  },
  {
   "cell_type": "code",
   "execution_count": 25,
   "id": "Lc6cTCvbhaL9",
   "metadata": {
    "colab": {
     "base_uri": "https://localhost:8080/",
     "height": 300
    },
    "id": "Lc6cTCvbhaL9",
    "outputId": "a82c746d-9e65-427d-a0ad-5726eccd372f"
   },
   "outputs": [
    {
     "data": {
      "text/html": [
       "<div>\n",
       "<style scoped>\n",
       "    .dataframe tbody tr th:only-of-type {\n",
       "        vertical-align: middle;\n",
       "    }\n",
       "\n",
       "    .dataframe tbody tr th {\n",
       "        vertical-align: top;\n",
       "    }\n",
       "\n",
       "    .dataframe thead th {\n",
       "        text-align: right;\n",
       "    }\n",
       "</style>\n",
       "<table border=\"1\" class=\"dataframe\">\n",
       "  <thead>\n",
       "    <tr style=\"text-align: right;\">\n",
       "      <th></th>\n",
       "      <th>Team</th>\n",
       "      <th>Average_Total</th>\n",
       "    </tr>\n",
       "  </thead>\n",
       "  <tbody>\n",
       "    <tr>\n",
       "      <th>0</th>\n",
       "      <td>Chennai Super Kings</td>\n",
       "      <td>179</td>\n",
       "    </tr>\n",
       "    <tr>\n",
       "      <th>2</th>\n",
       "      <td>Punjab Kings</td>\n",
       "      <td>175</td>\n",
       "    </tr>\n",
       "    <tr>\n",
       "      <th>1</th>\n",
       "      <td>Royal Challengers Bangalore</td>\n",
       "      <td>162</td>\n",
       "    </tr>\n",
       "    <tr>\n",
       "      <th>3</th>\n",
       "      <td>Mumbai Indians</td>\n",
       "      <td>162</td>\n",
       "    </tr>\n",
       "    <tr>\n",
       "      <th>5</th>\n",
       "      <td>Rajasthan Royals</td>\n",
       "      <td>156</td>\n",
       "    </tr>\n",
       "    <tr>\n",
       "      <th>4</th>\n",
       "      <td>Sunrisers Hyderabad</td>\n",
       "      <td>142</td>\n",
       "    </tr>\n",
       "    <tr>\n",
       "      <th>6</th>\n",
       "      <td>Kolkata Knight Riders</td>\n",
       "      <td>142</td>\n",
       "    </tr>\n",
       "    <tr>\n",
       "      <th>7</th>\n",
       "      <td>Delhi Capitals</td>\n",
       "      <td>142</td>\n",
       "    </tr>\n",
       "  </tbody>\n",
       "</table>\n",
       "</div>"
      ],
      "text/plain": [
       "                          Team  Average_Total\n",
       "0          Chennai Super Kings            179\n",
       "2                 Punjab Kings            175\n",
       "1  Royal Challengers Bangalore            162\n",
       "3               Mumbai Indians            162\n",
       "5             Rajasthan Royals            156\n",
       "4          Sunrisers Hyderabad            142\n",
       "6        Kolkata Knight Riders            142\n",
       "7               Delhi Capitals            142"
      ]
     },
     "execution_count": 25,
     "metadata": {},
     "output_type": "execute_result"
    }
   ],
   "source": [
    "#Team average 1st inning total\n",
    "cskt = 0; cskn = 0\n",
    "rcbt = 0; rcbn = 0\n",
    "pkt = 0; pkn = 0\n",
    "mit = 0; min = 0\n",
    "srht = 0; srhn = 0\n",
    "rrt = 0; rrn = 0\n",
    "kkrt = 0; kkrn = 0\n",
    "dct = 0; dcn = 0\n",
    "for i in range(131):\n",
    "  if df_total['batting_team'].iloc[i]=='Chennai Super Kings':\n",
    "    cskn = cskn + 1\n",
    "    cskt = cskt + df_total['total'].iloc[i]\n",
    "  elif df_total['batting_team'].iloc[i]=='Royal Challengers Bangalore':\n",
    "    rcbn = rcbn+1\n",
    "    rcbt = rcbt+df_total['total'].iloc[i]\n",
    "  elif df_total['batting_team'].iloc[i]=='Punjab Kings':\n",
    "    pkn = pkn+1\n",
    "    pkt = pkt+df_total['total'].iloc[i]\n",
    "  elif df_total['batting_team'].iloc[i]=='Mumbai Indians':\n",
    "    min = min+1\n",
    "    mit = mit+df_total['total'].iloc[i]\n",
    "  elif df_total['batting_team'].iloc[i]=='Sunrisers Hyderabad':\n",
    "    srhn = srhn+1\n",
    "    srht = srht+df_total['total'].iloc[i]\n",
    "  elif df_total['batting_team'].iloc[i]=='Rajasthan Royals':\n",
    "    rrn = rrn+1\n",
    "    rrt = rrt+df_total['total'].iloc[i]\n",
    "  elif df_total['batting_team'].iloc[i]=='Kolkata Knight Riders':\n",
    "    kkrn = kkrn+1\n",
    "    kkrt = kkrt+df_total['total'].iloc[i]\n",
    "  elif df_total['batting_team'].iloc[i]=='Delhi Capitals':\n",
    "    dcn = dcn+1\n",
    "    dct = dct+df_total['total'].iloc[i]\n",
    "\n",
    " \n",
    "avgtotal = {'Team':['Chennai Super Kings', 'Royal Challengers Bangalore', 'Punjab Kings',\n",
    "                                             'Mumbai Indians', 'Sunrisers Hyderabad', 'Rajasthan Royals',\n",
    "                                             'Kolkata Knight Riders', 'Delhi Capitals'],\n",
    "        'Average_Total':[round(cskt/cskn), round(rcbt/rcbn), round(pkt/pkn), round(mit/min), round(srht/srhn), round(rrt/rrn), round(kkrt/kkrn), round(dct/dcn)]}\n",
    "\n",
    "df_avgtotal = pd.DataFrame(avgtotal)\n",
    "df_avgtotal = df_avgtotal.sort_values([\"Average_Total\"], ascending=False)\n",
    "df_avgtotal"
   ]
  },
  {
   "cell_type": "code",
   "execution_count": 26,
   "id": "ww5kO3fZhl9J",
   "metadata": {
    "colab": {
     "base_uri": "https://localhost:8080/",
     "height": 299
    },
    "id": "ww5kO3fZhl9J",
    "outputId": "ef8245e8-ee61-4f41-d234-9eef036012f9"
   },
   "outputs": [
    {
     "data": {
      "image/png": "[encoded data removed]",
      "text/plain": [
       "<Figure size 1296x360 with 1 Axes>"
      ]
     },
     "metadata": {
      "needs_background": "light"
     },
     "output_type": "display_data"
    }
   ],
   "source": [
    "plt.figure(figsize=(18,5))\n",
    "sns.barplot(x=\"Team\", y=\"Average_Total\",data = df_avgtotal, ci = None, palette=\"Blues_r\")\n",
    "plt.show()"
   ]
  },
  {
   "cell_type": "code",
   "execution_count": 27,
   "id": "lgBz7EnU6YxJ",
   "metadata": {
    "colab": {
     "base_uri": "https://localhost:8080/",
     "height": 488
    },
    "id": "lgBz7EnU6YxJ",
    "outputId": "3a95d2da-5698-4556-cc75-8abb889c0582"
   },
   "outputs": [
    {
     "data": {
      "image/png": "[encoded data removed]",
      "text/plain": [
       "<Figure size 720x576 with 2 Axes>"
      ]
     },
     "metadata": {
      "needs_background": "light"
     },
     "output_type": "display_data"
    }
   ],
   "source": [
    "# Correlation matrix - quantitative variables\n",
    "plt.figure(figsize=(10,8))\n",
    "sns.heatmap(train.drop(['batting_team'\t,'bowling_team'], axis=1).corr(),cbar=True, fmt='.1f', annot=True, annot_kws={'size':8}, cmap='Blues_r')\n",
    "plt.show()"
   ]
  },
  {
   "cell_type": "code",
   "execution_count": 29,
   "id": "2bc284e8",
   "metadata": {},
   "outputs": [
    {
     "name": "stdout",
     "output_type": "stream",
     "text": [
      "Collecting dython\n",
      "  Downloading dython-0.7.1.post3-py3-none-any.whl (21 kB)\n",
      "Requirement already satisfied: seaborn>=0.11.0 in c:\\users\\star gate\\anaconda3\\lib\\site-packages (from dython) (0.11.2)\n",
      "Requirement already satisfied: numpy>=1.19.5 in c:\\users\\star gate\\anaconda3\\lib\\site-packages (from dython) (1.20.3)\n",
      "Requirement already satisfied: pandas>=1.3.2 in c:\\users\\star gate\\anaconda3\\lib\\site-packages (from dython) (1.3.4)\n",
      "Requirement already satisfied: scikit-learn>=0.24.2 in c:\\users\\star gate\\anaconda3\\lib\\site-packages (from dython) (0.24.2)\n",
      "Requirement already satisfied: matplotlib>=3.4.3 in c:\\users\\star gate\\anaconda3\\lib\\site-packages (from dython) (3.4.3)\n",
      "Collecting scikit-plot>=0.3.7\n",
      "  Downloading scikit_plot-0.3.7-py3-none-any.whl (33 kB)\n",
      "Requirement already satisfied: scipy>=1.7.1 in c:\\users\\star gate\\anaconda3\\lib\\site-packages (from dython) (1.7.1)\n",
      "Requirement already satisfied: python-dateutil>=2.7 in c:\\users\\star gate\\anaconda3\\lib\\site-packages (from matplotlib>=3.4.3->dython) (2.8.2)\n",
      "Requirement already satisfied: cycler>=0.10 in c:\\users\\star gate\\anaconda3\\lib\\site-packages (from matplotlib>=3.4.3->dython) (0.10.0)\n",
      "Requirement already satisfied: pyparsing>=2.2.1 in c:\\users\\star gate\\anaconda3\\lib\\site-packages (from matplotlib>=3.4.3->dython) (3.0.4)\n",
      "Requirement already satisfied: kiwisolver>=1.0.1 in c:\\users\\star gate\\anaconda3\\lib\\site-packages (from matplotlib>=3.4.3->dython) (1.3.1)\n",
      "Requirement already satisfied: pillow>=6.2.0 in c:\\users\\star gate\\anaconda3\\lib\\site-packages (from matplotlib>=3.4.3->dython) (8.4.0)\n",
      "Requirement already satisfied: six in c:\\users\\star gate\\anaconda3\\lib\\site-packages (from cycler>=0.10->matplotlib>=3.4.3->dython) (1.16.0)\n",
      "Requirement already satisfied: pytz>=2017.3 in c:\\users\\star gate\\anaconda3\\lib\\site-packages (from pandas>=1.3.2->dython) (2021.3)\n",
      "Requirement already satisfied: threadpoolctl>=2.0.0 in c:\\users\\star gate\\anaconda3\\lib\\site-packages (from scikit-learn>=0.24.2->dython) (2.2.0)\n",
      "Requirement already satisfied: joblib>=0.11 in c:\\users\\star gate\\anaconda3\\lib\\site-packages (from scikit-learn>=0.24.2->dython) (1.1.0)\n",
      "Installing collected packages: scikit-plot, dython\n",
      "Successfully installed dython-0.7.1.post3 scikit-plot-0.3.7\n"
     ]
    }
   ],
   "source": [
    "!pip install dython"
   ]
  },
  {
   "cell_type": "code",
   "execution_count": 30,
   "id": "ZEs4-CICRB1t",
   "metadata": {
    "colab": {
     "base_uri": "https://localhost:8080/",
     "height": 200
    },
    "id": "ZEs4-CICRB1t",
    "outputId": "2adaac70-e982-4dbc-80b1-ff0d8aef80d6"
   },
   "outputs": [
    {
     "data": {
      "image/png": "[encoded data removed]",
      "text/plain": [
       "<Figure size 432x288 with 2 Axes>"
      ]
     },
     "metadata": {
      "needs_background": "light"
     },
     "output_type": "display_data"
    },
    {
     "data": {
      "text/plain": [
       "{'corr':                 batting_team  bowling_team      runs   wickets     overs  \\\n",
       " batting_team        1.000000      0.188004  0.047799  0.097246  0.010752   \n",
       " bowling_team        0.188004      1.000000  0.053288  0.063515  0.009185   \n",
       " runs                0.047799      0.053288  1.000000  0.371298  0.883488   \n",
       " wickets             0.097246      0.063515  0.371298  1.000000  0.639162   \n",
       " overs               0.010752      0.009185  0.883488  0.639162  1.000000   \n",
       " runs_last_5         0.082657      0.085610  0.584049 -0.186263  0.294036   \n",
       " wickets_last_5      0.074268      0.031902  0.114336  0.632142  0.219591   \n",
       " total               0.120802      0.124341  0.383772 -0.445812  0.029181   \n",
       " \n",
       "                 runs_last_5  wickets_last_5     total  \n",
       " batting_team       0.082657        0.074268  0.120802  \n",
       " bowling_team       0.085610        0.031902  0.124341  \n",
       " runs               0.584049        0.114336  0.383772  \n",
       " wickets           -0.186263        0.632142 -0.445812  \n",
       " overs              0.294036        0.219591  0.029181  \n",
       " runs_last_5        1.000000       -0.276524  0.569868  \n",
       " wickets_last_5    -0.276524        1.000000 -0.293363  \n",
       " total              0.569868       -0.293363  1.000000  ,\n",
       " 'ax': <AxesSubplot:>}"
      ]
     },
     "execution_count": 30,
     "metadata": {},
     "output_type": "execute_result"
    }
   ],
   "source": [
    "# dython - all the variables\n",
    "from dython.nominal import associations\n",
    "associations(train, fmt='.1f', cmap='Blues_r')"
   ]
  },
  {
   "cell_type": "markdown",
   "id": "dcXT9TJN4Wgy",
   "metadata": {
    "id": "dcXT9TJN4Wgy"
   },
   "source": [
    "# One hot encoding"
   ]
  },
  {
   "cell_type": "code",
   "execution_count": 31,
   "id": "mYgWnur04FPo",
   "metadata": {
    "id": "mYgWnur04FPo"
   },
   "outputs": [],
   "source": [
    "# Converting categorical features using OneHotEncoding method\n",
    "encoded_Xtrain = pd.get_dummies(data= X_train, columns=['batting_team', 'bowling_team'])\n",
    "encoded_Xtest = pd.get_dummies(data= X_test, columns=['batting_team', 'bowling_team'])"
   ]
  },
  {
   "cell_type": "code",
   "execution_count": 32,
   "id": "_fBNzmCR4tmB",
   "metadata": {
    "colab": {
     "base_uri": "https://localhost:8080/"
    },
    "id": "_fBNzmCR4tmB",
    "outputId": "a460139b-71b0-4b47-f4b2-06644b480a63"
   },
   "outputs": [
    {
     "data": {
      "text/plain": [
       "Index(['runs', 'wickets', 'overs', 'runs_last_5', 'wickets_last_5',\n",
       "       'batting_team_Chennai Super Kings', 'batting_team_Delhi Capitals',\n",
       "       'batting_team_Kolkata Knight Riders', 'batting_team_Mumbai Indians',\n",
       "       'batting_team_Punjab Kings', 'batting_team_Rajasthan Royals',\n",
       "       'batting_team_Royal Challengers Bangalore',\n",
       "       'batting_team_Sunrisers Hyderabad', 'bowling_team_Chennai Super Kings',\n",
       "       'bowling_team_Delhi Capitals', 'bowling_team_Kolkata Knight Riders',\n",
       "       'bowling_team_Mumbai Indians', 'bowling_team_Punjab Kings',\n",
       "       'bowling_team_Rajasthan Royals',\n",
       "       'bowling_team_Royal Challengers Bangalore',\n",
       "       'bowling_team_Sunrisers Hyderabad'],\n",
       "      dtype='object')"
      ]
     },
     "execution_count": 32,
     "metadata": {},
     "output_type": "execute_result"
    }
   ],
   "source": [
    "# Check the columns\n",
    "encoded_Xtrain.columns"
   ]
  },
  {
   "cell_type": "code",
   "execution_count": 33,
   "id": "maxm413F4_fU",
   "metadata": {
    "id": "maxm413F4_fU"
   },
   "outputs": [],
   "source": [
    "# Rearranging the columns\n",
    "X_train = encoded_Xtrain [[ 'batting_team_Chennai Super Kings',\n",
    "       'batting_team_Delhi Capitals', 'batting_team_Punjab Kings',\n",
    "       'batting_team_Kolkata Knight Riders', 'batting_team_Mumbai Indians',\n",
    "       'batting_team_Rajasthan Royals',\n",
    "       'batting_team_Royal Challengers Bangalore',\n",
    "       'batting_team_Sunrisers Hyderabad', 'bowling_team_Chennai Super Kings',\n",
    "       'bowling_team_Delhi Capitals', 'bowling_team_Punjab Kings',\n",
    "       'bowling_team_Kolkata Knight Riders', 'bowling_team_Mumbai Indians',\n",
    "       'bowling_team_Rajasthan Royals',\n",
    "       'bowling_team_Royal Challengers Bangalore',\n",
    "       'bowling_team_Sunrisers Hyderabad','runs', 'wickets', 'overs', 'runs_last_5', 'wickets_last_5']]\n",
    "\n",
    "X_test = encoded_Xtest [['batting_team_Chennai Super Kings',\n",
    "       'batting_team_Delhi Capitals', 'batting_team_Punjab Kings',\n",
    "       'batting_team_Kolkata Knight Riders', 'batting_team_Mumbai Indians',\n",
    "       'batting_team_Rajasthan Royals',\n",
    "       'batting_team_Royal Challengers Bangalore',\n",
    "       'batting_team_Sunrisers Hyderabad', 'bowling_team_Chennai Super Kings',\n",
    "       'bowling_team_Delhi Capitals', 'bowling_team_Punjab Kings',\n",
    "       'bowling_team_Kolkata Knight Riders', 'bowling_team_Mumbai Indians',\n",
    "       'bowling_team_Rajasthan Royals',\n",
    "       'bowling_team_Royal Challengers Bangalore',\n",
    "       'bowling_team_Sunrisers Hyderabad','runs', 'wickets', 'overs', 'runs_last_5', 'wickets_last_5']]"
   ]
  },
  {
   "cell_type": "markdown",
   "id": "ER_LvC7B_UP9",
   "metadata": {
    "id": "ER_LvC7B_UP9"
   },
   "source": [
    "# Model Building"
   ]
  },
  {
   "cell_type": "markdown",
   "id": "DmD2ww3i_2ix",
   "metadata": {
    "id": "DmD2ww3i_2ix"
   },
   "source": [
    "Linear Regression Model"
   ]
  },
  {
   "cell_type": "code",
   "execution_count": 34,
   "id": "93HPRNtD_XqT",
   "metadata": {
    "colab": {
     "base_uri": "https://localhost:8080/"
    },
    "id": "93HPRNtD_XqT",
    "outputId": "4d95afe1-54d9-4453-b1be-21fa3f52a656"
   },
   "outputs": [
    {
     "data": {
      "text/plain": [
       "LinearRegression()"
      ]
     },
     "execution_count": 34,
     "metadata": {},
     "output_type": "execute_result"
    }
   ],
   "source": [
    "linear_regressor = LinearRegression()\n",
    "linear_regressor.fit(X_train,Y_train)"
   ]
  },
  {
   "cell_type": "code",
   "execution_count": 35,
   "id": "iPrZXCQkAR42",
   "metadata": {
    "id": "iPrZXCQkAR42"
   },
   "outputs": [],
   "source": [
    "# Predicting results\n",
    "Ytrain_predict_lm = linear_regressor.predict(X_train)\n",
    "Ytest_predict_lm = linear_regressor.predict(X_test)"
   ]
  },
  {
   "cell_type": "code",
   "execution_count": 36,
   "id": "Ewg_e2xGAK2P",
   "metadata": {
    "colab": {
     "base_uri": "https://localhost:8080/",
     "height": 178
    },
    "id": "Ewg_e2xGAK2P",
    "outputId": "4381e589-3bcb-4130-9412-e8c2350cd6f9"
   },
   "outputs": [
    {
     "name": "stdout",
     "output_type": "stream",
     "text": [
      "Linear Regression - Model Evaluation \n",
      "\n"
     ]
    },
    {
     "data": {
      "text/html": [
       "<div>\n",
       "<style scoped>\n",
       "    .dataframe tbody tr th:only-of-type {\n",
       "        vertical-align: middle;\n",
       "    }\n",
       "\n",
       "    .dataframe tbody tr th {\n",
       "        vertical-align: top;\n",
       "    }\n",
       "\n",
       "    .dataframe thead th {\n",
       "        text-align: right;\n",
       "    }\n",
       "</style>\n",
       "<table border=\"1\" class=\"dataframe\">\n",
       "  <thead>\n",
       "    <tr style=\"text-align: right;\">\n",
       "      <th></th>\n",
       "      <th>Criteria</th>\n",
       "      <th>Train_set</th>\n",
       "      <th>Test_set</th>\n",
       "    </tr>\n",
       "  </thead>\n",
       "  <tbody>\n",
       "    <tr>\n",
       "      <th>0</th>\n",
       "      <td>MAE</td>\n",
       "      <td>12.939</td>\n",
       "      <td>12.866</td>\n",
       "    </tr>\n",
       "    <tr>\n",
       "      <th>1</th>\n",
       "      <td>MAPE%</td>\n",
       "      <td>8.603</td>\n",
       "      <td>8.485</td>\n",
       "    </tr>\n",
       "    <tr>\n",
       "      <th>2</th>\n",
       "      <td>RMSE</td>\n",
       "      <td>17.234</td>\n",
       "      <td>17.015</td>\n",
       "    </tr>\n",
       "  </tbody>\n",
       "</table>\n",
       "</div>"
      ],
      "text/plain": [
       "  Criteria  Train_set  Test_set\n",
       "0      MAE     12.939    12.866\n",
       "1    MAPE%      8.603     8.485\n",
       "2     RMSE     17.234    17.015"
      ]
     },
     "execution_count": 36,
     "metadata": {},
     "output_type": "execute_result"
    }
   ],
   "source": [
    "# Linear Regression - Model Evaluation\n",
    "print(\"Linear Regression - Model Evaluation \\n\")\n",
    "linear_reg = pd.DataFrame({\n",
    "    'Criteria' : ['MAE','MAPE%', 'RMSE'],\n",
    "    'Train_set' : [round(mae(Y_train, Ytrain_predict_lm),3),round(mape(Y_train, Ytrain_predict_lm)*100,3), round(np.sqrt(mse(Y_train, Ytrain_predict_lm)),3)],\n",
    "    'Test_set' : [round(mae(Y_test, Ytest_predict_lm),3), round(mape(Y_test, Ytest_predict_lm)*100,3) , round(np.sqrt(mse(Y_test, Ytest_predict_lm)),3)],\n",
    "})\n",
    "linear_reg"
   ]
  },
  {
   "cell_type": "code",
   "execution_count": 37,
   "id": "KEf6lJb_iI2K",
   "metadata": {
    "colab": {
     "base_uri": "https://localhost:8080/",
     "height": 708
    },
    "id": "KEf6lJb_iI2K",
    "outputId": "5ddadd2a-9a58-471c-a536-ffaa11bc6f87"
   },
   "outputs": [
    {
     "data": {
      "text/html": [
       "<div>\n",
       "<style scoped>\n",
       "    .dataframe tbody tr th:only-of-type {\n",
       "        vertical-align: middle;\n",
       "    }\n",
       "\n",
       "    .dataframe tbody tr th {\n",
       "        vertical-align: top;\n",
       "    }\n",
       "\n",
       "    .dataframe thead th {\n",
       "        text-align: right;\n",
       "    }\n",
       "</style>\n",
       "<table border=\"1\" class=\"dataframe\">\n",
       "  <thead>\n",
       "    <tr style=\"text-align: right;\">\n",
       "      <th></th>\n",
       "      <th>Attribute</th>\n",
       "      <th>Importance</th>\n",
       "    </tr>\n",
       "  </thead>\n",
       "  <tbody>\n",
       "    <tr>\n",
       "      <th>4</th>\n",
       "      <td>wickets_last_5</td>\n",
       "      <td>3.448935</td>\n",
       "    </tr>\n",
       "    <tr>\n",
       "      <th>6</th>\n",
       "      <td>batting_team_Delhi Capitals</td>\n",
       "      <td>3.376225</td>\n",
       "    </tr>\n",
       "    <tr>\n",
       "      <th>10</th>\n",
       "      <td>batting_team_Rajasthan Royals</td>\n",
       "      <td>2.132473</td>\n",
       "    </tr>\n",
       "    <tr>\n",
       "      <th>15</th>\n",
       "      <td>bowling_team_Kolkata Knight Riders</td>\n",
       "      <td>1.776569</td>\n",
       "    </tr>\n",
       "    <tr>\n",
       "      <th>2</th>\n",
       "      <td>overs</td>\n",
       "      <td>1.132227</td>\n",
       "    </tr>\n",
       "    <tr>\n",
       "      <th>0</th>\n",
       "      <td>runs</td>\n",
       "      <td>0.993016</td>\n",
       "    </tr>\n",
       "    <tr>\n",
       "      <th>16</th>\n",
       "      <td>bowling_team_Mumbai Indians</td>\n",
       "      <td>0.983945</td>\n",
       "    </tr>\n",
       "    <tr>\n",
       "      <th>9</th>\n",
       "      <td>batting_team_Punjab Kings</td>\n",
       "      <td>0.843755</td>\n",
       "    </tr>\n",
       "    <tr>\n",
       "      <th>13</th>\n",
       "      <td>bowling_team_Chennai Super Kings</td>\n",
       "      <td>0.291495</td>\n",
       "    </tr>\n",
       "    <tr>\n",
       "      <th>8</th>\n",
       "      <td>batting_team_Mumbai Indians</td>\n",
       "      <td>0.068763</td>\n",
       "    </tr>\n",
       "    <tr>\n",
       "      <th>19</th>\n",
       "      <td>bowling_team_Royal Challengers Bangalore</td>\n",
       "      <td>-0.062470</td>\n",
       "    </tr>\n",
       "    <tr>\n",
       "      <th>14</th>\n",
       "      <td>bowling_team_Delhi Capitals</td>\n",
       "      <td>-0.172142</td>\n",
       "    </tr>\n",
       "    <tr>\n",
       "      <th>7</th>\n",
       "      <td>batting_team_Kolkata Knight Riders</td>\n",
       "      <td>-0.263439</td>\n",
       "    </tr>\n",
       "    <tr>\n",
       "      <th>12</th>\n",
       "      <td>batting_team_Sunrisers Hyderabad</td>\n",
       "      <td>-0.832620</td>\n",
       "    </tr>\n",
       "    <tr>\n",
       "      <th>20</th>\n",
       "      <td>bowling_team_Sunrisers Hyderabad</td>\n",
       "      <td>-1.190949</td>\n",
       "    </tr>\n",
       "    <tr>\n",
       "      <th>3</th>\n",
       "      <td>runs_last_5</td>\n",
       "      <td>-2.046337</td>\n",
       "    </tr>\n",
       "    <tr>\n",
       "      <th>1</th>\n",
       "      <td>wickets</td>\n",
       "      <td>-2.743153</td>\n",
       "    </tr>\n",
       "    <tr>\n",
       "      <th>5</th>\n",
       "      <td>batting_team_Chennai Super Kings</td>\n",
       "      <td>-3.897473</td>\n",
       "    </tr>\n",
       "    <tr>\n",
       "      <th>11</th>\n",
       "      <td>batting_team_Royal Challengers Bangalore</td>\n",
       "      <td>-4.108294</td>\n",
       "    </tr>\n",
       "    <tr>\n",
       "      <th>17</th>\n",
       "      <td>bowling_team_Punjab Kings</td>\n",
       "      <td>-4.803832</td>\n",
       "    </tr>\n",
       "    <tr>\n",
       "      <th>18</th>\n",
       "      <td>bowling_team_Rajasthan Royals</td>\n",
       "      <td>-6.534771</td>\n",
       "    </tr>\n",
       "  </tbody>\n",
       "</table>\n",
       "</div>"
      ],
      "text/plain": [
       "                                   Attribute  Importance\n",
       "4                             wickets_last_5    3.448935\n",
       "6                batting_team_Delhi Capitals    3.376225\n",
       "10             batting_team_Rajasthan Royals    2.132473\n",
       "15        bowling_team_Kolkata Knight Riders    1.776569\n",
       "2                                      overs    1.132227\n",
       "0                                       runs    0.993016\n",
       "16               bowling_team_Mumbai Indians    0.983945\n",
       "9                  batting_team_Punjab Kings    0.843755\n",
       "13          bowling_team_Chennai Super Kings    0.291495\n",
       "8                batting_team_Mumbai Indians    0.068763\n",
       "19  bowling_team_Royal Challengers Bangalore   -0.062470\n",
       "14               bowling_team_Delhi Capitals   -0.172142\n",
       "7         batting_team_Kolkata Knight Riders   -0.263439\n",
       "12          batting_team_Sunrisers Hyderabad   -0.832620\n",
       "20          bowling_team_Sunrisers Hyderabad   -1.190949\n",
       "3                                runs_last_5   -2.046337\n",
       "1                                    wickets   -2.743153\n",
       "5           batting_team_Chennai Super Kings   -3.897473\n",
       "11  batting_team_Royal Challengers Bangalore   -4.108294\n",
       "17                 bowling_team_Punjab Kings   -4.803832\n",
       "18             bowling_team_Rajasthan Royals   -6.534771"
      ]
     },
     "execution_count": 37,
     "metadata": {},
     "output_type": "execute_result"
    }
   ],
   "source": [
    "#Important variables\n",
    "importances_lr = pd.DataFrame(data = {'Attribute': encoded_Xtrain.columns, 'Importance': linear_regressor.coef_})\n",
    "importances_lr = importances_lr.sort_values(by='Importance', ascending = False)\n",
    "importances_lr"
   ]
  },
  {
   "cell_type": "code",
   "execution_count": 38,
   "id": "TxTqNAZciJya",
   "metadata": {
    "colab": {
     "base_uri": "https://localhost:8080/",
     "height": 544
    },
    "id": "TxTqNAZciJya",
    "outputId": "1e363199-5958-4670-9f03-3c9249c171d2"
   },
   "outputs": [
    {
     "data": {
      "image/png": "[encoded data removed]",
      "text/plain": [
       "<Figure size 720x360 with 1 Axes>"
      ]
     },
     "metadata": {
      "needs_background": "light"
     },
     "output_type": "display_data"
    }
   ],
   "source": [
    "#plot\n",
    "plt.figure(figsize=(10,5))\n",
    "plt.bar(x=importances_lr['Attribute'], height = importances_lr['Importance'], color = '#087E8B')\n",
    "plt.title('Feature Importance - Linear Regression')\n",
    "plt.xticks(rotation='vertical')\n",
    "plt.show()"
   ]
  },
  {
   "cell_type": "markdown",
   "id": "TBUUVmyDDC9z",
   "metadata": {
    "id": "TBUUVmyDDC9z"
   },
   "source": [
    "Ridge Regression"
   ]
  },
  {
   "cell_type": "code",
   "execution_count": 39,
   "id": "z-vjTny0DKY3",
   "metadata": {
    "id": "z-vjTny0DKY3"
   },
   "outputs": [
    {
     "name": "stderr",
     "output_type": "stream",
     "text": [
      "C:\\Users\\Star Gate\\anaconda3\\lib\\site-packages\\sklearn\\linear_model\\_ridge.py:147: LinAlgWarning: Ill-conditioned matrix (rcond=8.64504e-22): result may not be accurate.\n",
      "  return linalg.solve(A, Xy, sym_pos=True,\n",
      "C:\\Users\\Star Gate\\anaconda3\\lib\\site-packages\\sklearn\\linear_model\\_ridge.py:147: LinAlgWarning: Ill-conditioned matrix (rcond=1.55789e-18): result may not be accurate.\n",
      "  return linalg.solve(A, Xy, sym_pos=True,\n",
      "C:\\Users\\Star Gate\\anaconda3\\lib\\site-packages\\sklearn\\linear_model\\_ridge.py:147: LinAlgWarning: Ill-conditioned matrix (rcond=1.53101e-18): result may not be accurate.\n",
      "  return linalg.solve(A, Xy, sym_pos=True,\n",
      "C:\\Users\\Star Gate\\anaconda3\\lib\\site-packages\\sklearn\\linear_model\\_ridge.py:147: LinAlgWarning: Ill-conditioned matrix (rcond=1.48494e-18): result may not be accurate.\n",
      "  return linalg.solve(A, Xy, sym_pos=True,\n",
      "C:\\Users\\Star Gate\\anaconda3\\lib\\site-packages\\sklearn\\linear_model\\_ridge.py:147: LinAlgWarning: Ill-conditioned matrix (rcond=1.54084e-18): result may not be accurate.\n",
      "  return linalg.solve(A, Xy, sym_pos=True,\n",
      "C:\\Users\\Star Gate\\anaconda3\\lib\\site-packages\\sklearn\\linear_model\\_ridge.py:147: LinAlgWarning: Ill-conditioned matrix (rcond=1.57602e-18): result may not be accurate.\n",
      "  return linalg.solve(A, Xy, sym_pos=True,\n"
     ]
    },
    {
     "data": {
      "text/plain": [
       "GridSearchCV(cv=5, estimator=Ridge(),\n",
       "             param_grid={'alpha': [1e-15, 1e-10, 1e-08, 0.001, 0.01, 1, 5, 10,\n",
       "                                   20, 30, 35, 40]},\n",
       "             scoring='neg_mean_squared_error')"
      ]
     },
     "execution_count": 39,
     "metadata": {},
     "output_type": "execute_result"
    }
   ],
   "source": [
    "ridge=Ridge()\n",
    "parameters={'alpha':[1e-15,1e-10,1e-8,1e-3,1e-2,1,5,10,20,30,35,40]}\n",
    "ridge_regressor=GridSearchCV(ridge,parameters,scoring='neg_mean_squared_error',cv=5)\n",
    "ridge_regressor.fit(X_train,Y_train)"
   ]
  },
  {
   "cell_type": "code",
   "execution_count": 40,
   "id": "aQ2g3gStDRQx",
   "metadata": {
    "id": "aQ2g3gStDRQx"
   },
   "outputs": [
    {
     "name": "stdout",
     "output_type": "stream",
     "text": [
      "{'alpha': 40}\n",
      "-297.3587865336973\n"
     ]
    }
   ],
   "source": [
    "print(ridge_regressor.best_params_)\n",
    "print(ridge_regressor.best_score_)"
   ]
  },
  {
   "cell_type": "code",
   "execution_count": 41,
   "id": "t0AXflDUDbU5",
   "metadata": {
    "id": "t0AXflDUDbU5"
   },
   "outputs": [],
   "source": [
    "Ytrain_predict_rr=ridge_regressor.predict(X_train)\n",
    "Ytest_predict_rr=ridge_regressor.predict(X_test)"
   ]
  },
  {
   "cell_type": "code",
   "execution_count": 42,
   "id": "aidylGAiDikT",
   "metadata": {
    "id": "aidylGAiDikT"
   },
   "outputs": [
    {
     "name": "stdout",
     "output_type": "stream",
     "text": [
      "Ridge Regression - Model Evaluation \n",
      "\n"
     ]
    },
    {
     "data": {
      "text/html": [
       "<div>\n",
       "<style scoped>\n",
       "    .dataframe tbody tr th:only-of-type {\n",
       "        vertical-align: middle;\n",
       "    }\n",
       "\n",
       "    .dataframe tbody tr th {\n",
       "        vertical-align: top;\n",
       "    }\n",
       "\n",
       "    .dataframe thead th {\n",
       "        text-align: right;\n",
       "    }\n",
       "</style>\n",
       "<table border=\"1\" class=\"dataframe\">\n",
       "  <thead>\n",
       "    <tr style=\"text-align: right;\">\n",
       "      <th></th>\n",
       "      <th>Criteria</th>\n",
       "      <th>Train_set</th>\n",
       "      <th>Test_set</th>\n",
       "    </tr>\n",
       "  </thead>\n",
       "  <tbody>\n",
       "    <tr>\n",
       "      <th>0</th>\n",
       "      <td>MAE</td>\n",
       "      <td>12.937</td>\n",
       "      <td>12.863</td>\n",
       "    </tr>\n",
       "    <tr>\n",
       "      <th>1</th>\n",
       "      <td>MAPE%</td>\n",
       "      <td>8.602</td>\n",
       "      <td>8.484</td>\n",
       "    </tr>\n",
       "    <tr>\n",
       "      <th>2</th>\n",
       "      <td>RMSE</td>\n",
       "      <td>17.234</td>\n",
       "      <td>17.014</td>\n",
       "    </tr>\n",
       "  </tbody>\n",
       "</table>\n",
       "</div>"
      ],
      "text/plain": [
       "  Criteria  Train_set  Test_set\n",
       "0      MAE     12.937    12.863\n",
       "1    MAPE%      8.602     8.484\n",
       "2     RMSE     17.234    17.014"
      ]
     },
     "execution_count": 42,
     "metadata": {},
     "output_type": "execute_result"
    }
   ],
   "source": [
    "# Ridge Regression - Model Evaluation\n",
    "print(\"Ridge Regression - Model Evaluation \\n\")\n",
    "ridge_reg = pd.DataFrame({\n",
    "    'Criteria' : ['MAE','MAPE%', 'RMSE'],\n",
    "    'Train_set' : [round(mae(Y_train, Ytrain_predict_rr),3),round(mape(Y_train, Ytrain_predict_rr)*100,3), round(np.sqrt(mse(Y_train, Ytrain_predict_rr)),3)],\n",
    "    'Test_set' : [round(mae(Y_test, Ytest_predict_rr),3), round(mape(Y_test, Ytest_predict_rr)*100,3) , round(np.sqrt(mse(Y_test, Ytest_predict_rr)),3)],\n",
    "})\n",
    "ridge_reg\n"
   ]
  },
  {
   "cell_type": "code",
   "execution_count": 43,
   "id": "9dY8v75NiWVO",
   "metadata": {
    "id": "9dY8v75NiWVO"
   },
   "outputs": [
    {
     "data": {
      "text/html": [
       "<div>\n",
       "<style scoped>\n",
       "    .dataframe tbody tr th:only-of-type {\n",
       "        vertical-align: middle;\n",
       "    }\n",
       "\n",
       "    .dataframe tbody tr th {\n",
       "        vertical-align: top;\n",
       "    }\n",
       "\n",
       "    .dataframe thead th {\n",
       "        text-align: right;\n",
       "    }\n",
       "</style>\n",
       "<table border=\"1\" class=\"dataframe\">\n",
       "  <thead>\n",
       "    <tr style=\"text-align: right;\">\n",
       "      <th></th>\n",
       "      <th>Attribute</th>\n",
       "      <th>Importance</th>\n",
       "    </tr>\n",
       "  </thead>\n",
       "  <tbody>\n",
       "    <tr>\n",
       "      <th>4</th>\n",
       "      <td>wickets_last_5</td>\n",
       "      <td>3.421762</td>\n",
       "    </tr>\n",
       "    <tr>\n",
       "      <th>6</th>\n",
       "      <td>batting_team_Delhi Capitals</td>\n",
       "      <td>3.344760</td>\n",
       "    </tr>\n",
       "    <tr>\n",
       "      <th>10</th>\n",
       "      <td>batting_team_Rajasthan Royals</td>\n",
       "      <td>2.113155</td>\n",
       "    </tr>\n",
       "    <tr>\n",
       "      <th>15</th>\n",
       "      <td>bowling_team_Kolkata Knight Riders</td>\n",
       "      <td>1.760334</td>\n",
       "    </tr>\n",
       "    <tr>\n",
       "      <th>2</th>\n",
       "      <td>overs</td>\n",
       "      <td>1.115223</td>\n",
       "    </tr>\n",
       "    <tr>\n",
       "      <th>0</th>\n",
       "      <td>runs</td>\n",
       "      <td>0.984196</td>\n",
       "    </tr>\n",
       "    <tr>\n",
       "      <th>16</th>\n",
       "      <td>bowling_team_Mumbai Indians</td>\n",
       "      <td>0.983566</td>\n",
       "    </tr>\n",
       "    <tr>\n",
       "      <th>9</th>\n",
       "      <td>batting_team_Punjab Kings</td>\n",
       "      <td>0.841842</td>\n",
       "    </tr>\n",
       "    <tr>\n",
       "      <th>13</th>\n",
       "      <td>bowling_team_Chennai Super Kings</td>\n",
       "      <td>0.294666</td>\n",
       "    </tr>\n",
       "    <tr>\n",
       "      <th>8</th>\n",
       "      <td>batting_team_Mumbai Indians</td>\n",
       "      <td>0.070567</td>\n",
       "    </tr>\n",
       "    <tr>\n",
       "      <th>19</th>\n",
       "      <td>bowling_team_Royal Challengers Bangalore</td>\n",
       "      <td>-0.061791</td>\n",
       "    </tr>\n",
       "    <tr>\n",
       "      <th>14</th>\n",
       "      <td>bowling_team_Delhi Capitals</td>\n",
       "      <td>-0.176504</td>\n",
       "    </tr>\n",
       "    <tr>\n",
       "      <th>7</th>\n",
       "      <td>batting_team_Kolkata Knight Riders</td>\n",
       "      <td>-0.263034</td>\n",
       "    </tr>\n",
       "    <tr>\n",
       "      <th>12</th>\n",
       "      <td>batting_team_Sunrisers Hyderabad</td>\n",
       "      <td>-0.827140</td>\n",
       "    </tr>\n",
       "    <tr>\n",
       "      <th>20</th>\n",
       "      <td>bowling_team_Sunrisers Hyderabad</td>\n",
       "      <td>-1.190063</td>\n",
       "    </tr>\n",
       "    <tr>\n",
       "      <th>3</th>\n",
       "      <td>runs_last_5</td>\n",
       "      <td>-2.023859</td>\n",
       "    </tr>\n",
       "    <tr>\n",
       "      <th>1</th>\n",
       "      <td>wickets</td>\n",
       "      <td>-2.716247</td>\n",
       "    </tr>\n",
       "    <tr>\n",
       "      <th>5</th>\n",
       "      <td>batting_team_Chennai Super Kings</td>\n",
       "      <td>-3.862802</td>\n",
       "    </tr>\n",
       "    <tr>\n",
       "      <th>11</th>\n",
       "      <td>batting_team_Royal Challengers Bangalore</td>\n",
       "      <td>-4.076919</td>\n",
       "    </tr>\n",
       "    <tr>\n",
       "      <th>17</th>\n",
       "      <td>bowling_team_Punjab Kings</td>\n",
       "      <td>-4.803479</td>\n",
       "    </tr>\n",
       "    <tr>\n",
       "      <th>18</th>\n",
       "      <td>bowling_team_Rajasthan Royals</td>\n",
       "      <td>-6.531866</td>\n",
       "    </tr>\n",
       "  </tbody>\n",
       "</table>\n",
       "</div>"
      ],
      "text/plain": [
       "                                   Attribute  Importance\n",
       "4                             wickets_last_5    3.421762\n",
       "6                batting_team_Delhi Capitals    3.344760\n",
       "10             batting_team_Rajasthan Royals    2.113155\n",
       "15        bowling_team_Kolkata Knight Riders    1.760334\n",
       "2                                      overs    1.115223\n",
       "0                                       runs    0.984196\n",
       "16               bowling_team_Mumbai Indians    0.983566\n",
       "9                  batting_team_Punjab Kings    0.841842\n",
       "13          bowling_team_Chennai Super Kings    0.294666\n",
       "8                batting_team_Mumbai Indians    0.070567\n",
       "19  bowling_team_Royal Challengers Bangalore   -0.061791\n",
       "14               bowling_team_Delhi Capitals   -0.176504\n",
       "7         batting_team_Kolkata Knight Riders   -0.263034\n",
       "12          batting_team_Sunrisers Hyderabad   -0.827140\n",
       "20          bowling_team_Sunrisers Hyderabad   -1.190063\n",
       "3                                runs_last_5   -2.023859\n",
       "1                                    wickets   -2.716247\n",
       "5           batting_team_Chennai Super Kings   -3.862802\n",
       "11  batting_team_Royal Challengers Bangalore   -4.076919\n",
       "17                 bowling_team_Punjab Kings   -4.803479\n",
       "18             bowling_team_Rajasthan Royals   -6.531866"
      ]
     },
     "execution_count": 43,
     "metadata": {},
     "output_type": "execute_result"
    }
   ],
   "source": [
    "importances_rr = pd.DataFrame(data = {'Attribute': encoded_Xtrain.columns, 'Importance': ridge_regressor.best_estimator_.coef_})\n",
    "importances_rr = importances_rr.sort_values(by='Importance', ascending = False)\n",
    "importances_rr"
   ]
  },
  {
   "cell_type": "code",
   "execution_count": 44,
   "id": "0h2TK3Dqjoko",
   "metadata": {
    "id": "0h2TK3Dqjoko"
   },
   "outputs": [
    {
     "data": {
      "image/png": "[encoded data removed]",
      "text/plain": [
       "<Figure size 720x360 with 1 Axes>"
      ]
     },
     "metadata": {
      "needs_background": "light"
     },
     "output_type": "display_data"
    }
   ],
   "source": [
    "plt.figure(figsize=(10,5))\n",
    "plt.bar(x=importances_rr['Attribute'], height = importances_rr['Importance'], color = '#087E8B')\n",
    "plt.title('Feature Importance - Ridge Regression')\n",
    "plt.xticks(rotation='vertical')\n",
    "plt.show()"
   ]
  },
  {
   "cell_type": "markdown",
   "id": "bpMVsFTID-q_",
   "metadata": {
    "id": "bpMVsFTID-q_"
   },
   "source": [
    "Lasso Regression"
   ]
  },
  {
   "cell_type": "code",
   "execution_count": 45,
   "id": "7cE33T9DEMOF",
   "metadata": {
    "id": "7cE33T9DEMOF"
   },
   "outputs": [],
   "source": [
    "lasso=Lasso()\n",
    "parameters={'alpha':[1e-15,1e-10,1e-8,1e-3,1e-2,1,5,10,20,30,35,40]}\n",
    "lasso_regressor=GridSearchCV(lasso,parameters,scoring='neg_mean_squared_error',cv=5)"
   ]
  },
  {
   "cell_type": "code",
   "execution_count": 46,
   "id": "4gvAxSwXEWHE",
   "metadata": {
    "id": "4gvAxSwXEWHE"
   },
   "outputs": [
    {
     "name": "stderr",
     "output_type": "stream",
     "text": [
      "C:\\Users\\Star Gate\\anaconda3\\lib\\site-packages\\sklearn\\linear_model\\_coordinate_descent.py:530: ConvergenceWarning: Objective did not converge. You might want to increase the number of iterations. Duality gap: 4368603.829027731, tolerance: 2516.1702912033306\n",
      "  model = cd_fast.enet_coordinate_descent(\n",
      "C:\\Users\\Star Gate\\anaconda3\\lib\\site-packages\\sklearn\\linear_model\\_coordinate_descent.py:530: ConvergenceWarning: Objective did not converge. You might want to increase the number of iterations. Duality gap: 4400207.323957447, tolerance: 2543.394299100188\n",
      "  model = cd_fast.enet_coordinate_descent(\n",
      "C:\\Users\\Star Gate\\anaconda3\\lib\\site-packages\\sklearn\\linear_model\\_coordinate_descent.py:530: ConvergenceWarning: Objective did not converge. You might want to increase the number of iterations. Duality gap: 4392436.280852087, tolerance: 2523.4129529378197\n",
      "  model = cd_fast.enet_coordinate_descent(\n",
      "C:\\Users\\Star Gate\\anaconda3\\lib\\site-packages\\sklearn\\linear_model\\_coordinate_descent.py:530: ConvergenceWarning: Objective did not converge. You might want to increase the number of iterations. Duality gap: 4347961.177301077, tolerance: 2532.4878520010748\n",
      "  model = cd_fast.enet_coordinate_descent(\n",
      "C:\\Users\\Star Gate\\anaconda3\\lib\\site-packages\\sklearn\\linear_model\\_coordinate_descent.py:530: ConvergenceWarning: Objective did not converge. You might want to increase the number of iterations. Duality gap: 4392056.085431174, tolerance: 2532.4423453632817\n",
      "  model = cd_fast.enet_coordinate_descent(\n",
      "C:\\Users\\Star Gate\\anaconda3\\lib\\site-packages\\sklearn\\linear_model\\_coordinate_descent.py:530: ConvergenceWarning: Objective did not converge. You might want to increase the number of iterations. Duality gap: 237985.7394349221, tolerance: 2516.1702912033306\n",
      "  model = cd_fast.enet_coordinate_descent(\n",
      "C:\\Users\\Star Gate\\anaconda3\\lib\\site-packages\\sklearn\\linear_model\\_coordinate_descent.py:530: ConvergenceWarning: Objective did not converge. You might want to increase the number of iterations. Duality gap: 245598.6490968177, tolerance: 2543.394299100188\n",
      "  model = cd_fast.enet_coordinate_descent(\n",
      "C:\\Users\\Star Gate\\anaconda3\\lib\\site-packages\\sklearn\\linear_model\\_coordinate_descent.py:530: ConvergenceWarning: Objective did not converge. You might want to increase the number of iterations. Duality gap: 240351.88230795413, tolerance: 2523.4129529378197\n",
      "  model = cd_fast.enet_coordinate_descent(\n",
      "C:\\Users\\Star Gate\\anaconda3\\lib\\site-packages\\sklearn\\linear_model\\_coordinate_descent.py:530: ConvergenceWarning: Objective did not converge. You might want to increase the number of iterations. Duality gap: 241779.88975555263, tolerance: 2532.4878520010748\n",
      "  model = cd_fast.enet_coordinate_descent(\n",
      "C:\\Users\\Star Gate\\anaconda3\\lib\\site-packages\\sklearn\\linear_model\\_coordinate_descent.py:530: ConvergenceWarning: Objective did not converge. You might want to increase the number of iterations. Duality gap: 242136.2643709192, tolerance: 2532.4423453632817\n",
      "  model = cd_fast.enet_coordinate_descent(\n",
      "C:\\Users\\Star Gate\\anaconda3\\lib\\site-packages\\sklearn\\linear_model\\_coordinate_descent.py:530: ConvergenceWarning: Objective did not converge. You might want to increase the number of iterations. Duality gap: 237985.66517488565, tolerance: 2516.1702912033306\n",
      "  model = cd_fast.enet_coordinate_descent(\n",
      "C:\\Users\\Star Gate\\anaconda3\\lib\\site-packages\\sklearn\\linear_model\\_coordinate_descent.py:530: ConvergenceWarning: Objective did not converge. You might want to increase the number of iterations. Duality gap: 245598.24697467033, tolerance: 2543.394299100188\n",
      "  model = cd_fast.enet_coordinate_descent(\n",
      "C:\\Users\\Star Gate\\anaconda3\\lib\\site-packages\\sklearn\\linear_model\\_coordinate_descent.py:530: ConvergenceWarning: Objective did not converge. You might want to increase the number of iterations. Duality gap: 240352.73022922408, tolerance: 2523.4129529378197\n",
      "  model = cd_fast.enet_coordinate_descent(\n",
      "C:\\Users\\Star Gate\\anaconda3\\lib\\site-packages\\sklearn\\linear_model\\_coordinate_descent.py:530: ConvergenceWarning: Objective did not converge. You might want to increase the number of iterations. Duality gap: 241779.81010056008, tolerance: 2532.4878520010748\n",
      "  model = cd_fast.enet_coordinate_descent(\n",
      "C:\\Users\\Star Gate\\anaconda3\\lib\\site-packages\\sklearn\\linear_model\\_coordinate_descent.py:530: ConvergenceWarning: Objective did not converge. You might want to increase the number of iterations. Duality gap: 242136.0800534906, tolerance: 2532.4423453632817\n",
      "  model = cd_fast.enet_coordinate_descent(\n"
     ]
    },
    {
     "data": {
      "text/plain": [
       "GridSearchCV(cv=5, estimator=Lasso(),\n",
       "             param_grid={'alpha': [1e-15, 1e-10, 1e-08, 0.001, 0.01, 1, 5, 10,\n",
       "                                   20, 30, 35, 40]},\n",
       "             scoring='neg_mean_squared_error')"
      ]
     },
     "execution_count": 46,
     "metadata": {},
     "output_type": "execute_result"
    }
   ],
   "source": [
    "lasso_regressor.fit(X_train,Y_train)"
   ]
  },
  {
   "cell_type": "code",
   "execution_count": 47,
   "id": "P1SqfTo9ElQU",
   "metadata": {
    "id": "P1SqfTo9ElQU"
   },
   "outputs": [
    {
     "name": "stdout",
     "output_type": "stream",
     "text": [
      "{'alpha': 0.001}\n",
      "-297.35949560234116\n"
     ]
    }
   ],
   "source": [
    "print(lasso_regressor.best_params_)\n",
    "print(lasso_regressor.best_score_)"
   ]
  },
  {
   "cell_type": "code",
   "execution_count": 48,
   "id": "HdwXNa3GEp7x",
   "metadata": {
    "id": "HdwXNa3GEp7x"
   },
   "outputs": [],
   "source": [
    "Ytrain_predict_lr=lasso_regressor.predict(X_train)\n",
    "Ytest_predict_lr=lasso_regressor.predict(X_test)"
   ]
  },
  {
   "cell_type": "code",
   "execution_count": 49,
   "id": "IDTxto8lEz9G",
   "metadata": {
    "id": "IDTxto8lEz9G"
   },
   "outputs": [
    {
     "name": "stdout",
     "output_type": "stream",
     "text": [
      "Lasso Regression - Model Evaluation \n",
      "\n"
     ]
    },
    {
     "data": {
      "text/html": [
       "<div>\n",
       "<style scoped>\n",
       "    .dataframe tbody tr th:only-of-type {\n",
       "        vertical-align: middle;\n",
       "    }\n",
       "\n",
       "    .dataframe tbody tr th {\n",
       "        vertical-align: top;\n",
       "    }\n",
       "\n",
       "    .dataframe thead th {\n",
       "        text-align: right;\n",
       "    }\n",
       "</style>\n",
       "<table border=\"1\" class=\"dataframe\">\n",
       "  <thead>\n",
       "    <tr style=\"text-align: right;\">\n",
       "      <th></th>\n",
       "      <th>Criteria</th>\n",
       "      <th>Train_set</th>\n",
       "      <th>Test_set</th>\n",
       "    </tr>\n",
       "  </thead>\n",
       "  <tbody>\n",
       "    <tr>\n",
       "      <th>0</th>\n",
       "      <td>MAE</td>\n",
       "      <td>12.938</td>\n",
       "      <td>12.865</td>\n",
       "    </tr>\n",
       "    <tr>\n",
       "      <th>1</th>\n",
       "      <td>MAPE%</td>\n",
       "      <td>8.603</td>\n",
       "      <td>8.485</td>\n",
       "    </tr>\n",
       "    <tr>\n",
       "      <th>2</th>\n",
       "      <td>RMSE</td>\n",
       "      <td>17.234</td>\n",
       "      <td>17.014</td>\n",
       "    </tr>\n",
       "  </tbody>\n",
       "</table>\n",
       "</div>"
      ],
      "text/plain": [
       "  Criteria  Train_set  Test_set\n",
       "0      MAE     12.938    12.865\n",
       "1    MAPE%      8.603     8.485\n",
       "2     RMSE     17.234    17.014"
      ]
     },
     "execution_count": 49,
     "metadata": {},
     "output_type": "execute_result"
    }
   ],
   "source": [
    "# Lasso Regression - Model Evaluation\n",
    "print(\"Lasso Regression - Model Evaluation \\n\")\n",
    "lasso_reg = pd.DataFrame({\n",
    "    'Criteria' : ['MAE','MAPE%', 'RMSE'],\n",
    "    'Train_set' : [round(mae(Y_train, Ytrain_predict_lr),3),round(mape(Y_train, Ytrain_predict_lr)*100,3), round(np.sqrt(mse(Y_train, Ytrain_predict_lr)),3)],\n",
    "    'Test_set' : [round(mae(Y_test, Ytest_predict_lr),3), round(mape(Y_test, Ytest_predict_lr)*100,3) , round(np.sqrt(mse(Y_test, Ytest_predict_lr)),3)],\n",
    "})\n",
    "lasso_reg"
   ]
  },
  {
   "cell_type": "code",
   "execution_count": 50,
   "id": "ADDTKTBEjzSX",
   "metadata": {
    "id": "ADDTKTBEjzSX"
   },
   "outputs": [
    {
     "data": {
      "text/html": [
       "<div>\n",
       "<style scoped>\n",
       "    .dataframe tbody tr th:only-of-type {\n",
       "        vertical-align: middle;\n",
       "    }\n",
       "\n",
       "    .dataframe tbody tr th {\n",
       "        vertical-align: top;\n",
       "    }\n",
       "\n",
       "    .dataframe thead th {\n",
       "        text-align: right;\n",
       "    }\n",
       "</style>\n",
       "<table border=\"1\" class=\"dataframe\">\n",
       "  <thead>\n",
       "    <tr style=\"text-align: right;\">\n",
       "      <th></th>\n",
       "      <th>Attribute</th>\n",
       "      <th>Importance</th>\n",
       "    </tr>\n",
       "  </thead>\n",
       "  <tbody>\n",
       "    <tr>\n",
       "      <th>4</th>\n",
       "      <td>wickets_last_5</td>\n",
       "      <td>3.078521</td>\n",
       "    </tr>\n",
       "    <tr>\n",
       "      <th>6</th>\n",
       "      <td>batting_team_Delhi Capitals</td>\n",
       "      <td>3.004704</td>\n",
       "    </tr>\n",
       "    <tr>\n",
       "      <th>10</th>\n",
       "      <td>batting_team_Rajasthan Royals</td>\n",
       "      <td>1.971318</td>\n",
       "    </tr>\n",
       "    <tr>\n",
       "      <th>15</th>\n",
       "      <td>bowling_team_Kolkata Knight Riders</td>\n",
       "      <td>1.617076</td>\n",
       "    </tr>\n",
       "    <tr>\n",
       "      <th>16</th>\n",
       "      <td>bowling_team_Mumbai Indians</td>\n",
       "      <td>0.983845</td>\n",
       "    </tr>\n",
       "    <tr>\n",
       "      <th>2</th>\n",
       "      <td>overs</td>\n",
       "      <td>0.758004</td>\n",
       "    </tr>\n",
       "    <tr>\n",
       "      <th>9</th>\n",
       "      <td>batting_team_Punjab Kings</td>\n",
       "      <td>0.686573</td>\n",
       "    </tr>\n",
       "    <tr>\n",
       "      <th>0</th>\n",
       "      <td>runs</td>\n",
       "      <td>0.623150</td>\n",
       "    </tr>\n",
       "    <tr>\n",
       "      <th>13</th>\n",
       "      <td>bowling_team_Chennai Super Kings</td>\n",
       "      <td>0.132514</td>\n",
       "    </tr>\n",
       "    <tr>\n",
       "      <th>19</th>\n",
       "      <td>bowling_team_Royal Challengers Bangalore</td>\n",
       "      <td>-0.062256</td>\n",
       "    </tr>\n",
       "    <tr>\n",
       "      <th>8</th>\n",
       "      <td>batting_team_Mumbai Indians</td>\n",
       "      <td>-0.071726</td>\n",
       "    </tr>\n",
       "    <tr>\n",
       "      <th>14</th>\n",
       "      <td>bowling_team_Delhi Capitals</td>\n",
       "      <td>-0.318730</td>\n",
       "    </tr>\n",
       "    <tr>\n",
       "      <th>7</th>\n",
       "      <td>batting_team_Kolkata Knight Riders</td>\n",
       "      <td>-0.620131</td>\n",
       "    </tr>\n",
       "    <tr>\n",
       "      <th>12</th>\n",
       "      <td>batting_team_Sunrisers Hyderabad</td>\n",
       "      <td>-0.976535</td>\n",
       "    </tr>\n",
       "    <tr>\n",
       "      <th>20</th>\n",
       "      <td>bowling_team_Sunrisers Hyderabad</td>\n",
       "      <td>-1.189506</td>\n",
       "    </tr>\n",
       "    <tr>\n",
       "      <th>3</th>\n",
       "      <td>runs_last_5</td>\n",
       "      <td>-2.401439</td>\n",
       "    </tr>\n",
       "    <tr>\n",
       "      <th>1</th>\n",
       "      <td>wickets</td>\n",
       "      <td>-3.097203</td>\n",
       "    </tr>\n",
       "    <tr>\n",
       "      <th>11</th>\n",
       "      <td>batting_team_Royal Challengers Bangalore</td>\n",
       "      <td>-4.251127</td>\n",
       "    </tr>\n",
       "    <tr>\n",
       "      <th>5</th>\n",
       "      <td>batting_team_Chennai Super Kings</td>\n",
       "      <td>-4.254680</td>\n",
       "    </tr>\n",
       "    <tr>\n",
       "      <th>17</th>\n",
       "      <td>bowling_team_Punjab Kings</td>\n",
       "      <td>-4.804124</td>\n",
       "    </tr>\n",
       "    <tr>\n",
       "      <th>18</th>\n",
       "      <td>bowling_team_Rajasthan Royals</td>\n",
       "      <td>-6.534027</td>\n",
       "    </tr>\n",
       "  </tbody>\n",
       "</table>\n",
       "</div>"
      ],
      "text/plain": [
       "                                   Attribute  Importance\n",
       "4                             wickets_last_5    3.078521\n",
       "6                batting_team_Delhi Capitals    3.004704\n",
       "10             batting_team_Rajasthan Royals    1.971318\n",
       "15        bowling_team_Kolkata Knight Riders    1.617076\n",
       "16               bowling_team_Mumbai Indians    0.983845\n",
       "2                                      overs    0.758004\n",
       "9                  batting_team_Punjab Kings    0.686573\n",
       "0                                       runs    0.623150\n",
       "13          bowling_team_Chennai Super Kings    0.132514\n",
       "19  bowling_team_Royal Challengers Bangalore   -0.062256\n",
       "8                batting_team_Mumbai Indians   -0.071726\n",
       "14               bowling_team_Delhi Capitals   -0.318730\n",
       "7         batting_team_Kolkata Knight Riders   -0.620131\n",
       "12          batting_team_Sunrisers Hyderabad   -0.976535\n",
       "20          bowling_team_Sunrisers Hyderabad   -1.189506\n",
       "3                                runs_last_5   -2.401439\n",
       "1                                    wickets   -3.097203\n",
       "11  batting_team_Royal Challengers Bangalore   -4.251127\n",
       "5           batting_team_Chennai Super Kings   -4.254680\n",
       "17                 bowling_team_Punjab Kings   -4.804124\n",
       "18             bowling_team_Rajasthan Royals   -6.534027"
      ]
     },
     "execution_count": 50,
     "metadata": {},
     "output_type": "execute_result"
    }
   ],
   "source": [
    "importances_lar = pd.DataFrame(data = {'Attribute': encoded_Xtrain.columns, 'Importance': lasso_regressor.best_estimator_.coef_})\n",
    "importances_lar = importances_lar.sort_values(by='Importance', ascending = False)\n",
    "importances_lar"
   ]
  },
  {
   "cell_type": "code",
   "execution_count": 51,
   "id": "kuGiafhCj0IM",
   "metadata": {
    "id": "kuGiafhCj0IM"
   },
   "outputs": [
    {
     "data": {
      "image/png": "[encoded data removed]",
      "text/plain": [
       "<Figure size 720x360 with 1 Axes>"
      ]
     },
     "metadata": {
      "needs_background": "light"
     },
     "output_type": "display_data"
    }
   ],
   "source": [
    "plt.figure(figsize=(10,5))\n",
    "plt.bar(x=importances_lar['Attribute'], height = importances_lar['Importance'], color = '#087E8B')\n",
    "plt.title('Feature Importance - lasso Regression')\n",
    "plt.xticks(rotation='vertical')\n",
    "plt.show()"
   ]
  },
  {
   "cell_type": "markdown",
   "id": "WdQetXyGGYhc",
   "metadata": {
    "id": "WdQetXyGGYhc"
   },
   "source": [
    "Elastic Net Regression"
   ]
  },
  {
   "cell_type": "code",
   "execution_count": 52,
   "id": "pXKhS_KWGlIQ",
   "metadata": {
    "id": "pXKhS_KWGlIQ"
   },
   "outputs": [],
   "source": [
    "enet=ElasticNet()\n",
    "parameters={'alpha':[1e-15,1e-10,1e-8,1e-2,1,5,10,20,30,35,40]}\n",
    "enet_regressor=GridSearchCV(enet,parameters,scoring='neg_mean_squared_error',cv=5)"
   ]
  },
  {
   "cell_type": "code",
   "execution_count": 53,
   "id": "hrFMqQRLHQGj",
   "metadata": {
    "id": "hrFMqQRLHQGj"
   },
   "outputs": [
    {
     "name": "stderr",
     "output_type": "stream",
     "text": [
      "C:\\Users\\Star Gate\\anaconda3\\lib\\site-packages\\sklearn\\linear_model\\_coordinate_descent.py:530: ConvergenceWarning: Objective did not converge. You might want to increase the number of iterations. Duality gap: 4383417.0255670175, tolerance: 2516.1702912033306\n",
      "  model = cd_fast.enet_coordinate_descent(\n",
      "C:\\Users\\Star Gate\\anaconda3\\lib\\site-packages\\sklearn\\linear_model\\_coordinate_descent.py:530: ConvergenceWarning: Objective did not converge. You might want to increase the number of iterations. Duality gap: 4413122.053859345, tolerance: 2543.394299100188\n",
      "  model = cd_fast.enet_coordinate_descent(\n",
      "C:\\Users\\Star Gate\\anaconda3\\lib\\site-packages\\sklearn\\linear_model\\_coordinate_descent.py:530: ConvergenceWarning: Objective did not converge. You might want to increase the number of iterations. Duality gap: 4370254.344104888, tolerance: 2523.4129529378197\n",
      "  model = cd_fast.enet_coordinate_descent(\n",
      "C:\\Users\\Star Gate\\anaconda3\\lib\\site-packages\\sklearn\\linear_model\\_coordinate_descent.py:530: ConvergenceWarning: Objective did not converge. You might want to increase the number of iterations. Duality gap: 4093691.988844598, tolerance: 2532.4878520010748\n",
      "  model = cd_fast.enet_coordinate_descent(\n",
      "C:\\Users\\Star Gate\\anaconda3\\lib\\site-packages\\sklearn\\linear_model\\_coordinate_descent.py:530: ConvergenceWarning: Objective did not converge. You might want to increase the number of iterations. Duality gap: 4406702.845574556, tolerance: 2532.4423453632817\n",
      "  model = cd_fast.enet_coordinate_descent(\n",
      "C:\\Users\\Star Gate\\anaconda3\\lib\\site-packages\\sklearn\\linear_model\\_coordinate_descent.py:530: ConvergenceWarning: Objective did not converge. You might want to increase the number of iterations. Duality gap: 879287.9972309861, tolerance: 2516.1702912033306\n",
      "  model = cd_fast.enet_coordinate_descent(\n",
      "C:\\Users\\Star Gate\\anaconda3\\lib\\site-packages\\sklearn\\linear_model\\_coordinate_descent.py:530: ConvergenceWarning: Objective did not converge. You might want to increase the number of iterations. Duality gap: 717079.7274730662, tolerance: 2543.394299100188\n",
      "  model = cd_fast.enet_coordinate_descent(\n",
      "C:\\Users\\Star Gate\\anaconda3\\lib\\site-packages\\sklearn\\linear_model\\_coordinate_descent.py:530: ConvergenceWarning: Objective did not converge. You might want to increase the number of iterations. Duality gap: 781982.8532463843, tolerance: 2523.4129529378197\n",
      "  model = cd_fast.enet_coordinate_descent(\n",
      "C:\\Users\\Star Gate\\anaconda3\\lib\\site-packages\\sklearn\\linear_model\\_coordinate_descent.py:530: ConvergenceWarning: Objective did not converge. You might want to increase the number of iterations. Duality gap: 916150.8946011635, tolerance: 2532.4878520010748\n",
      "  model = cd_fast.enet_coordinate_descent(\n",
      "C:\\Users\\Star Gate\\anaconda3\\lib\\site-packages\\sklearn\\linear_model\\_coordinate_descent.py:530: ConvergenceWarning: Objective did not converge. You might want to increase the number of iterations. Duality gap: 925798.0118960189, tolerance: 2532.4423453632817\n",
      "  model = cd_fast.enet_coordinate_descent(\n",
      "C:\\Users\\Star Gate\\anaconda3\\lib\\site-packages\\sklearn\\linear_model\\_coordinate_descent.py:530: ConvergenceWarning: Objective did not converge. You might want to increase the number of iterations. Duality gap: 879201.6277222782, tolerance: 2516.1702912033306\n",
      "  model = cd_fast.enet_coordinate_descent(\n",
      "C:\\Users\\Star Gate\\anaconda3\\lib\\site-packages\\sklearn\\linear_model\\_coordinate_descent.py:530: ConvergenceWarning: Objective did not converge. You might want to increase the number of iterations. Duality gap: 717004.6383911455, tolerance: 2543.394299100188\n",
      "  model = cd_fast.enet_coordinate_descent(\n",
      "C:\\Users\\Star Gate\\anaconda3\\lib\\site-packages\\sklearn\\linear_model\\_coordinate_descent.py:530: ConvergenceWarning: Objective did not converge. You might want to increase the number of iterations. Duality gap: 781904.8218407882, tolerance: 2523.4129529378197\n",
      "  model = cd_fast.enet_coordinate_descent(\n",
      "C:\\Users\\Star Gate\\anaconda3\\lib\\site-packages\\sklearn\\linear_model\\_coordinate_descent.py:530: ConvergenceWarning: Objective did not converge. You might want to increase the number of iterations. Duality gap: 916062.1622948842, tolerance: 2532.4878520010748\n",
      "  model = cd_fast.enet_coordinate_descent(\n",
      "C:\\Users\\Star Gate\\anaconda3\\lib\\site-packages\\sklearn\\linear_model\\_coordinate_descent.py:530: ConvergenceWarning: Objective did not converge. You might want to increase the number of iterations. Duality gap: 925710.4228210347, tolerance: 2532.4423453632817\n",
      "  model = cd_fast.enet_coordinate_descent(\n",
      "C:\\Users\\Star Gate\\anaconda3\\lib\\site-packages\\sklearn\\linear_model\\_coordinate_descent.py:530: ConvergenceWarning: Objective did not converge. You might want to increase the number of iterations. Duality gap: 1056951.408468864, tolerance: 3162.0102516680095\n",
      "  model = cd_fast.enet_coordinate_descent(\n"
     ]
    },
    {
     "data": {
      "text/plain": [
       "GridSearchCV(cv=5, estimator=ElasticNet(),\n",
       "             param_grid={'alpha': [1e-15, 1e-10, 1e-08, 0.01, 1, 5, 10, 20, 30,\n",
       "                                   35, 40]},\n",
       "             scoring='neg_mean_squared_error')"
      ]
     },
     "execution_count": 53,
     "metadata": {},
     "output_type": "execute_result"
    }
   ],
   "source": [
    "enet_regressor.fit(X_train,Y_train)"
   ]
  },
  {
   "cell_type": "code",
   "execution_count": 54,
   "id": "eAIZsqLjHoFC",
   "metadata": {
    "id": "eAIZsqLjHoFC"
   },
   "outputs": [
    {
     "name": "stdout",
     "output_type": "stream",
     "text": [
      "{'alpha': 1e-08}\n",
      "-297.36050471059036\n"
     ]
    }
   ],
   "source": [
    "print(enet_regressor.best_params_)\n",
    "print(enet_regressor.best_score_)"
   ]
  },
  {
   "cell_type": "code",
   "execution_count": 55,
   "id": "tkcDXGTsHxj7",
   "metadata": {
    "id": "tkcDXGTsHxj7"
   },
   "outputs": [],
   "source": [
    "Ytrain_predict_enet=enet_regressor.predict(X_train)\n",
    "Ytest_predict_enet=enet_regressor.predict(X_test)"
   ]
  },
  {
   "cell_type": "code",
   "execution_count": 56,
   "id": "UU6iIkfeH5If",
   "metadata": {
    "id": "UU6iIkfeH5If"
   },
   "outputs": [
    {
     "name": "stdout",
     "output_type": "stream",
     "text": [
      "Elastic Net Regression - Model Evaluation \n",
      "\n"
     ]
    },
    {
     "data": {
      "text/html": [
       "<div>\n",
       "<style scoped>\n",
       "    .dataframe tbody tr th:only-of-type {\n",
       "        vertical-align: middle;\n",
       "    }\n",
       "\n",
       "    .dataframe tbody tr th {\n",
       "        vertical-align: top;\n",
       "    }\n",
       "\n",
       "    .dataframe thead th {\n",
       "        text-align: right;\n",
       "    }\n",
       "</style>\n",
       "<table border=\"1\" class=\"dataframe\">\n",
       "  <thead>\n",
       "    <tr style=\"text-align: right;\">\n",
       "      <th></th>\n",
       "      <th>Criteria</th>\n",
       "      <th>Train_set</th>\n",
       "      <th>Test_set</th>\n",
       "    </tr>\n",
       "  </thead>\n",
       "  <tbody>\n",
       "    <tr>\n",
       "      <th>0</th>\n",
       "      <td>MAE</td>\n",
       "      <td>12.939</td>\n",
       "      <td>12.866</td>\n",
       "    </tr>\n",
       "    <tr>\n",
       "      <th>1</th>\n",
       "      <td>MAPE%</td>\n",
       "      <td>8.603</td>\n",
       "      <td>8.485</td>\n",
       "    </tr>\n",
       "    <tr>\n",
       "      <th>2</th>\n",
       "      <td>RMSE</td>\n",
       "      <td>17.234</td>\n",
       "      <td>17.015</td>\n",
       "    </tr>\n",
       "  </tbody>\n",
       "</table>\n",
       "</div>"
      ],
      "text/plain": [
       "  Criteria  Train_set  Test_set\n",
       "0      MAE     12.939    12.866\n",
       "1    MAPE%      8.603     8.485\n",
       "2     RMSE     17.234    17.015"
      ]
     },
     "execution_count": 56,
     "metadata": {},
     "output_type": "execute_result"
    }
   ],
   "source": [
    "# Elastic Net Regression - Model Evaluation\n",
    "print(\"Elastic Net Regression - Model Evaluation \\n\")\n",
    "enet_reg = pd.DataFrame({\n",
    "    'Criteria' : ['MAE','MAPE%', 'RMSE'],\n",
    "    'Train_set' : [round(mae(Y_train, Ytrain_predict_enet),3),round(mape(Y_train, Ytrain_predict_enet)*100,3), round(np.sqrt(mse(Y_train, Ytrain_predict_enet)),3)],\n",
    "    'Test_set' : [round(mae(Y_test, Ytest_predict_enet),3), round(mape(Y_test, Ytest_predict_enet)*100,3) , round(np.sqrt(mse(Y_test, Ytest_predict_enet)),3)],\n",
    "})\n",
    "enet_reg"
   ]
  },
  {
   "cell_type": "code",
   "execution_count": 57,
   "id": "u1ovSVr9j-vx",
   "metadata": {
    "id": "u1ovSVr9j-vx"
   },
   "outputs": [
    {
     "data": {
      "text/html": [
       "<div>\n",
       "<style scoped>\n",
       "    .dataframe tbody tr th:only-of-type {\n",
       "        vertical-align: middle;\n",
       "    }\n",
       "\n",
       "    .dataframe tbody tr th {\n",
       "        vertical-align: top;\n",
       "    }\n",
       "\n",
       "    .dataframe thead th {\n",
       "        text-align: right;\n",
       "    }\n",
       "</style>\n",
       "<table border=\"1\" class=\"dataframe\">\n",
       "  <thead>\n",
       "    <tr style=\"text-align: right;\">\n",
       "      <th></th>\n",
       "      <th>Attribute</th>\n",
       "      <th>Importance</th>\n",
       "    </tr>\n",
       "  </thead>\n",
       "  <tbody>\n",
       "    <tr>\n",
       "      <th>4</th>\n",
       "      <td>wickets_last_5</td>\n",
       "      <td>3.090664</td>\n",
       "    </tr>\n",
       "    <tr>\n",
       "      <th>6</th>\n",
       "      <td>batting_team_Delhi Capitals</td>\n",
       "      <td>3.017953</td>\n",
       "    </tr>\n",
       "    <tr>\n",
       "      <th>10</th>\n",
       "      <td>batting_team_Rajasthan Royals</td>\n",
       "      <td>2.146248</td>\n",
       "    </tr>\n",
       "    <tr>\n",
       "      <th>15</th>\n",
       "      <td>bowling_team_Kolkata Knight Riders</td>\n",
       "      <td>1.790344</td>\n",
       "    </tr>\n",
       "    <tr>\n",
       "      <th>16</th>\n",
       "      <td>bowling_team_Mumbai Indians</td>\n",
       "      <td>0.983945</td>\n",
       "    </tr>\n",
       "    <tr>\n",
       "      <th>9</th>\n",
       "      <td>batting_team_Punjab Kings</td>\n",
       "      <td>0.857530</td>\n",
       "    </tr>\n",
       "    <tr>\n",
       "      <th>2</th>\n",
       "      <td>overs</td>\n",
       "      <td>0.773956</td>\n",
       "    </tr>\n",
       "    <tr>\n",
       "      <th>0</th>\n",
       "      <td>runs</td>\n",
       "      <td>0.634745</td>\n",
       "    </tr>\n",
       "    <tr>\n",
       "      <th>13</th>\n",
       "      <td>bowling_team_Chennai Super Kings</td>\n",
       "      <td>0.305270</td>\n",
       "    </tr>\n",
       "    <tr>\n",
       "      <th>8</th>\n",
       "      <td>batting_team_Mumbai Indians</td>\n",
       "      <td>0.082538</td>\n",
       "    </tr>\n",
       "    <tr>\n",
       "      <th>19</th>\n",
       "      <td>bowling_team_Royal Challengers Bangalore</td>\n",
       "      <td>-0.062470</td>\n",
       "    </tr>\n",
       "    <tr>\n",
       "      <th>14</th>\n",
       "      <td>bowling_team_Delhi Capitals</td>\n",
       "      <td>-0.158367</td>\n",
       "    </tr>\n",
       "    <tr>\n",
       "      <th>7</th>\n",
       "      <td>batting_team_Kolkata Knight Riders</td>\n",
       "      <td>-0.621710</td>\n",
       "    </tr>\n",
       "    <tr>\n",
       "      <th>12</th>\n",
       "      <td>batting_team_Sunrisers Hyderabad</td>\n",
       "      <td>-0.818844</td>\n",
       "    </tr>\n",
       "    <tr>\n",
       "      <th>20</th>\n",
       "      <td>bowling_team_Sunrisers Hyderabad</td>\n",
       "      <td>-1.190949</td>\n",
       "    </tr>\n",
       "    <tr>\n",
       "      <th>3</th>\n",
       "      <td>runs_last_5</td>\n",
       "      <td>-2.404608</td>\n",
       "    </tr>\n",
       "    <tr>\n",
       "      <th>1</th>\n",
       "      <td>wickets</td>\n",
       "      <td>-3.101425</td>\n",
       "    </tr>\n",
       "    <tr>\n",
       "      <th>11</th>\n",
       "      <td>batting_team_Royal Challengers Bangalore</td>\n",
       "      <td>-4.094518</td>\n",
       "    </tr>\n",
       "    <tr>\n",
       "      <th>5</th>\n",
       "      <td>batting_team_Chennai Super Kings</td>\n",
       "      <td>-4.255745</td>\n",
       "    </tr>\n",
       "    <tr>\n",
       "      <th>17</th>\n",
       "      <td>bowling_team_Punjab Kings</td>\n",
       "      <td>-4.803832</td>\n",
       "    </tr>\n",
       "    <tr>\n",
       "      <th>18</th>\n",
       "      <td>bowling_team_Rajasthan Royals</td>\n",
       "      <td>-6.534771</td>\n",
       "    </tr>\n",
       "  </tbody>\n",
       "</table>\n",
       "</div>"
      ],
      "text/plain": [
       "                                   Attribute  Importance\n",
       "4                             wickets_last_5    3.090664\n",
       "6                batting_team_Delhi Capitals    3.017953\n",
       "10             batting_team_Rajasthan Royals    2.146248\n",
       "15        bowling_team_Kolkata Knight Riders    1.790344\n",
       "16               bowling_team_Mumbai Indians    0.983945\n",
       "9                  batting_team_Punjab Kings    0.857530\n",
       "2                                      overs    0.773956\n",
       "0                                       runs    0.634745\n",
       "13          bowling_team_Chennai Super Kings    0.305270\n",
       "8                batting_team_Mumbai Indians    0.082538\n",
       "19  bowling_team_Royal Challengers Bangalore   -0.062470\n",
       "14               bowling_team_Delhi Capitals   -0.158367\n",
       "7         batting_team_Kolkata Knight Riders   -0.621710\n",
       "12          batting_team_Sunrisers Hyderabad   -0.818844\n",
       "20          bowling_team_Sunrisers Hyderabad   -1.190949\n",
       "3                                runs_last_5   -2.404608\n",
       "1                                    wickets   -3.101425\n",
       "11  batting_team_Royal Challengers Bangalore   -4.094518\n",
       "5           batting_team_Chennai Super Kings   -4.255745\n",
       "17                 bowling_team_Punjab Kings   -4.803832\n",
       "18             bowling_team_Rajasthan Royals   -6.534771"
      ]
     },
     "execution_count": 57,
     "metadata": {},
     "output_type": "execute_result"
    }
   ],
   "source": [
    "importances_er = pd.DataFrame(data = {'Attribute': encoded_Xtrain.columns, 'Importance': enet_regressor.best_estimator_.coef_})\n",
    "importances_er = importances_er.sort_values(by='Importance', ascending = False)\n",
    "importances_er"
   ]
  },
  {
   "cell_type": "code",
   "execution_count": 58,
   "id": "xar8b1TWkCjz",
   "metadata": {
    "id": "xar8b1TWkCjz"
   },
   "outputs": [
    {
     "data": {
      "image/png": "[encoded data removed]",
      "text/plain": [
       "<Figure size 720x360 with 1 Axes>"
      ]
     },
     "metadata": {
      "needs_background": "light"
     },
     "output_type": "display_data"
    }
   ],
   "source": [
    "plt.figure(figsize=(10,5))\n",
    "plt.bar(x=importances_er['Attribute'], height = importances_er['Importance'], color = '#087E8B')\n",
    "plt.title('Feature Importance - Elastic Net Regression')\n",
    "plt.xticks(rotation='vertical')\n",
    "plt.show()"
   ]
  },
  {
   "cell_type": "markdown",
   "id": "uIz4dj1kIGlo",
   "metadata": {
    "id": "uIz4dj1kIGlo"
   },
   "source": [
    "Random Forest Regression"
   ]
  },
  {
   "cell_type": "code",
   "execution_count": 59,
   "id": "7HaUWz-wkN8Q",
   "metadata": {
    "id": "7HaUWz-wkN8Q"
   },
   "outputs": [],
   "source": [
    "param_grid = {  'bootstrap': [True], 'max_depth': [5, 10, None], 'max_features': ['auto', 'log2'], 'n_estimators': [50, 100, 500], 'min_samples_leaf' : [1,2,3] }"
   ]
  },
  {
   "cell_type": "code",
   "execution_count": 60,
   "id": "DqdVpLbakRAD",
   "metadata": {
    "id": "DqdVpLbakRAD"
   },
   "outputs": [],
   "source": [
    "rfr = RandomForestRegressor(random_state = 1)"
   ]
  },
  {
   "cell_type": "code",
   "execution_count": 61,
   "id": "-Ux_GZDwkWAD",
   "metadata": {
    "id": "-Ux_GZDwkWAD"
   },
   "outputs": [],
   "source": [
    "g_search = GridSearchCV(estimator = rfr, param_grid = param_grid, cv = 5, n_jobs = 1, verbose = 0, return_train_score=True)"
   ]
  },
  {
   "cell_type": "code",
   "execution_count": 62,
   "id": "7fLhqEld9ot1",
   "metadata": {
    "id": "7fLhqEld9ot1"
   },
   "outputs": [
    {
     "data": {
      "text/plain": [
       "GridSearchCV(cv=5, estimator=RandomForestRegressor(random_state=1), n_jobs=1,\n",
       "             param_grid={'bootstrap': [True], 'max_depth': [5, 10, None],\n",
       "                         'max_features': ['auto', 'log2'],\n",
       "                         'min_samples_leaf': [1, 2, 3],\n",
       "                         'n_estimators': [50, 100, 500]},\n",
       "             return_train_score=True)"
      ]
     },
     "execution_count": 62,
     "metadata": {},
     "output_type": "execute_result"
    }
   ],
   "source": [
    "g_search.fit(X_train, Y_train)"
   ]
  },
  {
   "cell_type": "code",
   "execution_count": 63,
   "id": "bs-C0Stmkd0c",
   "metadata": {
    "id": "bs-C0Stmkd0c"
   },
   "outputs": [
    {
     "name": "stdout",
     "output_type": "stream",
     "text": [
      "{'bootstrap': True, 'max_depth': None, 'max_features': 'log2', 'min_samples_leaf': 1, 'n_estimators': 500}\n"
     ]
    }
   ],
   "source": [
    "print(g_search.best_params_)"
   ]
  },
  {
   "cell_type": "code",
   "execution_count": 64,
   "id": "xUYdL8AMkizk",
   "metadata": {
    "id": "xUYdL8AMkizk"
   },
   "outputs": [],
   "source": [
    "# Predicting results\n",
    "Ytrain_predict_rf = g_search.predict(X_train)\n",
    "Ytest_predict_rf = g_search.predict(X_test)"
   ]
  },
  {
   "cell_type": "code",
   "execution_count": 65,
   "id": "W2rpBF8lkno6",
   "metadata": {
    "id": "W2rpBF8lkno6"
   },
   "outputs": [
    {
     "name": "stdout",
     "output_type": "stream",
     "text": [
      "Random Forest Regression - Model Evaluation \n",
      "\n"
     ]
    },
    {
     "data": {
      "text/html": [
       "<div>\n",
       "<style scoped>\n",
       "    .dataframe tbody tr th:only-of-type {\n",
       "        vertical-align: middle;\n",
       "    }\n",
       "\n",
       "    .dataframe tbody tr th {\n",
       "        vertical-align: top;\n",
       "    }\n",
       "\n",
       "    .dataframe thead th {\n",
       "        text-align: right;\n",
       "    }\n",
       "</style>\n",
       "<table border=\"1\" class=\"dataframe\">\n",
       "  <thead>\n",
       "    <tr style=\"text-align: right;\">\n",
       "      <th></th>\n",
       "      <th>Criteria</th>\n",
       "      <th>Train_set</th>\n",
       "      <th>Test_set</th>\n",
       "    </tr>\n",
       "  </thead>\n",
       "  <tbody>\n",
       "    <tr>\n",
       "      <th>0</th>\n",
       "      <td>MAE</td>\n",
       "      <td>1.657</td>\n",
       "      <td>4.509</td>\n",
       "    </tr>\n",
       "    <tr>\n",
       "      <th>1</th>\n",
       "      <td>MAPE%</td>\n",
       "      <td>1.072</td>\n",
       "      <td>2.873</td>\n",
       "    </tr>\n",
       "    <tr>\n",
       "      <th>2</th>\n",
       "      <td>RMSE</td>\n",
       "      <td>2.769</td>\n",
       "      <td>7.395</td>\n",
       "    </tr>\n",
       "  </tbody>\n",
       "</table>\n",
       "</div>"
      ],
      "text/plain": [
       "  Criteria  Train_set  Test_set\n",
       "0      MAE      1.657     4.509\n",
       "1    MAPE%      1.072     2.873\n",
       "2     RMSE      2.769     7.395"
      ]
     },
     "execution_count": 65,
     "metadata": {},
     "output_type": "execute_result"
    }
   ],
   "source": [
    "# Random Forest Regression - Model Evaluation\n",
    "print(\"Random Forest Regression - Model Evaluation \\n\")\n",
    "rf_reg = pd.DataFrame({\n",
    "    'Criteria' : ['MAE','MAPE%', 'RMSE'],\n",
    "    'Train_set' : [round(mae(Y_train, Ytrain_predict_rf),3),round(mape(Y_train, Ytrain_predict_rf)*100,3), round(np.sqrt(mse(Y_train, Ytrain_predict_rf)),3)],\n",
    "    'Test_set' : [round(mae(Y_test, Ytest_predict_rf),3), round(mape(Y_test, Ytest_predict_rf)*100,3) , round(np.sqrt(mse(Y_test, Ytest_predict_rf)),3)],\n",
    "})\n",
    "rf_reg"
   ]
  },
  {
   "cell_type": "code",
   "execution_count": 66,
   "id": "QiQRLp8zktG4",
   "metadata": {
    "id": "QiQRLp8zktG4"
   },
   "outputs": [
    {
     "data": {
      "text/html": [
       "<div>\n",
       "<style scoped>\n",
       "    .dataframe tbody tr th:only-of-type {\n",
       "        vertical-align: middle;\n",
       "    }\n",
       "\n",
       "    .dataframe tbody tr th {\n",
       "        vertical-align: top;\n",
       "    }\n",
       "\n",
       "    .dataframe thead th {\n",
       "        text-align: right;\n",
       "    }\n",
       "</style>\n",
       "<table border=\"1\" class=\"dataframe\">\n",
       "  <thead>\n",
       "    <tr style=\"text-align: right;\">\n",
       "      <th></th>\n",
       "      <th>Attribute</th>\n",
       "      <th>Importance</th>\n",
       "    </tr>\n",
       "  </thead>\n",
       "  <tbody>\n",
       "    <tr>\n",
       "      <th>16</th>\n",
       "      <td>bowling_team_Mumbai Indians</td>\n",
       "      <td>0.237899</td>\n",
       "    </tr>\n",
       "    <tr>\n",
       "      <th>19</th>\n",
       "      <td>bowling_team_Royal Challengers Bangalore</td>\n",
       "      <td>0.235990</td>\n",
       "    </tr>\n",
       "    <tr>\n",
       "      <th>17</th>\n",
       "      <td>bowling_team_Punjab Kings</td>\n",
       "      <td>0.182790</td>\n",
       "    </tr>\n",
       "    <tr>\n",
       "      <th>18</th>\n",
       "      <td>bowling_team_Rajasthan Royals</td>\n",
       "      <td>0.114360</td>\n",
       "    </tr>\n",
       "    <tr>\n",
       "      <th>20</th>\n",
       "      <td>bowling_team_Sunrisers Hyderabad</td>\n",
       "      <td>0.055493</td>\n",
       "    </tr>\n",
       "    <tr>\n",
       "      <th>10</th>\n",
       "      <td>batting_team_Rajasthan Royals</td>\n",
       "      <td>0.012958</td>\n",
       "    </tr>\n",
       "    <tr>\n",
       "      <th>1</th>\n",
       "      <td>wickets</td>\n",
       "      <td>0.012577</td>\n",
       "    </tr>\n",
       "    <tr>\n",
       "      <th>13</th>\n",
       "      <td>bowling_team_Chennai Super Kings</td>\n",
       "      <td>0.011711</td>\n",
       "    </tr>\n",
       "    <tr>\n",
       "      <th>14</th>\n",
       "      <td>bowling_team_Delhi Capitals</td>\n",
       "      <td>0.011652</td>\n",
       "    </tr>\n",
       "    <tr>\n",
       "      <th>6</th>\n",
       "      <td>batting_team_Delhi Capitals</td>\n",
       "      <td>0.011274</td>\n",
       "    </tr>\n",
       "    <tr>\n",
       "      <th>4</th>\n",
       "      <td>wickets_last_5</td>\n",
       "      <td>0.011092</td>\n",
       "    </tr>\n",
       "    <tr>\n",
       "      <th>12</th>\n",
       "      <td>batting_team_Sunrisers Hyderabad</td>\n",
       "      <td>0.010885</td>\n",
       "    </tr>\n",
       "    <tr>\n",
       "      <th>0</th>\n",
       "      <td>runs</td>\n",
       "      <td>0.010834</td>\n",
       "    </tr>\n",
       "    <tr>\n",
       "      <th>9</th>\n",
       "      <td>batting_team_Punjab Kings</td>\n",
       "      <td>0.010809</td>\n",
       "    </tr>\n",
       "    <tr>\n",
       "      <th>5</th>\n",
       "      <td>batting_team_Chennai Super Kings</td>\n",
       "      <td>0.010566</td>\n",
       "    </tr>\n",
       "    <tr>\n",
       "      <th>11</th>\n",
       "      <td>batting_team_Royal Challengers Bangalore</td>\n",
       "      <td>0.010515</td>\n",
       "    </tr>\n",
       "    <tr>\n",
       "      <th>2</th>\n",
       "      <td>overs</td>\n",
       "      <td>0.010459</td>\n",
       "    </tr>\n",
       "    <tr>\n",
       "      <th>7</th>\n",
       "      <td>batting_team_Kolkata Knight Riders</td>\n",
       "      <td>0.010445</td>\n",
       "    </tr>\n",
       "    <tr>\n",
       "      <th>15</th>\n",
       "      <td>bowling_team_Kolkata Knight Riders</td>\n",
       "      <td>0.009645</td>\n",
       "    </tr>\n",
       "    <tr>\n",
       "      <th>3</th>\n",
       "      <td>runs_last_5</td>\n",
       "      <td>0.009402</td>\n",
       "    </tr>\n",
       "    <tr>\n",
       "      <th>8</th>\n",
       "      <td>batting_team_Mumbai Indians</td>\n",
       "      <td>0.008645</td>\n",
       "    </tr>\n",
       "  </tbody>\n",
       "</table>\n",
       "</div>"
      ],
      "text/plain": [
       "                                   Attribute  Importance\n",
       "16               bowling_team_Mumbai Indians    0.237899\n",
       "19  bowling_team_Royal Challengers Bangalore    0.235990\n",
       "17                 bowling_team_Punjab Kings    0.182790\n",
       "18             bowling_team_Rajasthan Royals    0.114360\n",
       "20          bowling_team_Sunrisers Hyderabad    0.055493\n",
       "10             batting_team_Rajasthan Royals    0.012958\n",
       "1                                    wickets    0.012577\n",
       "13          bowling_team_Chennai Super Kings    0.011711\n",
       "14               bowling_team_Delhi Capitals    0.011652\n",
       "6                batting_team_Delhi Capitals    0.011274\n",
       "4                             wickets_last_5    0.011092\n",
       "12          batting_team_Sunrisers Hyderabad    0.010885\n",
       "0                                       runs    0.010834\n",
       "9                  batting_team_Punjab Kings    0.010809\n",
       "5           batting_team_Chennai Super Kings    0.010566\n",
       "11  batting_team_Royal Challengers Bangalore    0.010515\n",
       "2                                      overs    0.010459\n",
       "7         batting_team_Kolkata Knight Riders    0.010445\n",
       "15        bowling_team_Kolkata Knight Riders    0.009645\n",
       "3                                runs_last_5    0.009402\n",
       "8                batting_team_Mumbai Indians    0.008645"
      ]
     },
     "execution_count": 66,
     "metadata": {},
     "output_type": "execute_result"
    }
   ],
   "source": [
    "importances_rf = pd.DataFrame(data = {'Attribute': encoded_Xtrain.columns, 'Importance': g_search.best_estimator_.feature_importances_})\n",
    "importances_rf = importances_rf.sort_values(by='Importance', ascending = False)\n",
    "importances_rf"
   ]
  },
  {
   "cell_type": "code",
   "execution_count": 67,
   "id": "t58AgRoBkw6R",
   "metadata": {
    "id": "t58AgRoBkw6R"
   },
   "outputs": [
    {
     "data": {
      "image/png": "[encoded data removed]",
      "text/plain": [
       "<Figure size 720x360 with 1 Axes>"
      ]
     },
     "metadata": {
      "needs_background": "light"
     },
     "output_type": "display_data"
    }
   ],
   "source": [
    "plt.figure(figsize=(10,5))\n",
    "plt.bar(x=importances_rf['Attribute'], height = importances_rf['Importance'], color = '#087E8B')\n",
    "plt.title('Feature Importance - Random Forest Regression')\n",
    "plt.xticks(rotation='vertical')\n",
    "plt.show()"
   ]
  },
  {
   "cell_type": "markdown",
   "id": "dj_8sHY_62Tf",
   "metadata": {
    "id": "dj_8sHY_62Tf"
   },
   "source": [
    "Neural Network"
   ]
  },
  {
   "cell_type": "code",
   "execution_count": 68,
   "id": "8yEBY_wc-Qio",
   "metadata": {
    "id": "8yEBY_wc-Qio"
   },
   "outputs": [
    {
     "name": "stderr",
     "output_type": "stream",
     "text": [
      "C:\\Users\\Star Gate\\anaconda3\\lib\\site-packages\\sklearn\\neural_network\\_multilayer_perceptron.py:614: ConvergenceWarning: Stochastic Optimizer: Maximum iterations (500) reached and the optimization hasn't converged yet.\n",
      "  warnings.warn(\n"
     ]
    },
    {
     "data": {
      "text/plain": [
       "MLPRegressor(activation='logistic', max_iter=500)"
      ]
     },
     "execution_count": 68,
     "metadata": {},
     "output_type": "execute_result"
    }
   ],
   "source": [
    "neural_net = MLPRegressor(activation='logistic', max_iter=500)\n",
    "neural_net.fit(X_train, Y_train)"
   ]
  },
  {
   "cell_type": "code",
   "execution_count": 69,
   "id": "j7B4yiFr7NDa",
   "metadata": {
    "id": "j7B4yiFr7NDa"
   },
   "outputs": [],
   "source": [
    "# Predicting results\n",
    "Ytrain_predict_nn = neural_net.predict(X_train)\n",
    "Ytest_predict_nn = neural_net.predict(X_test)"
   ]
  },
  {
   "cell_type": "code",
   "execution_count": 70,
   "id": "bX3Djm0B8Gft",
   "metadata": {
    "id": "bX3Djm0B8Gft"
   },
   "outputs": [
    {
     "name": "stdout",
     "output_type": "stream",
     "text": [
      "Neural Network - Model Evaluation \n",
      "\n"
     ]
    },
    {
     "data": {
      "text/html": [
       "<div>\n",
       "<style scoped>\n",
       "    .dataframe tbody tr th:only-of-type {\n",
       "        vertical-align: middle;\n",
       "    }\n",
       "\n",
       "    .dataframe tbody tr th {\n",
       "        vertical-align: top;\n",
       "    }\n",
       "\n",
       "    .dataframe thead th {\n",
       "        text-align: right;\n",
       "    }\n",
       "</style>\n",
       "<table border=\"1\" class=\"dataframe\">\n",
       "  <thead>\n",
       "    <tr style=\"text-align: right;\">\n",
       "      <th></th>\n",
       "      <th>Criteria</th>\n",
       "      <th>Train_set</th>\n",
       "      <th>Test_set</th>\n",
       "    </tr>\n",
       "  </thead>\n",
       "  <tbody>\n",
       "    <tr>\n",
       "      <th>0</th>\n",
       "      <td>MAE</td>\n",
       "      <td>8.197</td>\n",
       "      <td>8.407</td>\n",
       "    </tr>\n",
       "    <tr>\n",
       "      <th>1</th>\n",
       "      <td>MAPE%</td>\n",
       "      <td>5.296</td>\n",
       "      <td>5.397</td>\n",
       "    </tr>\n",
       "    <tr>\n",
       "      <th>2</th>\n",
       "      <td>RMSE</td>\n",
       "      <td>11.373</td>\n",
       "      <td>11.541</td>\n",
       "    </tr>\n",
       "  </tbody>\n",
       "</table>\n",
       "</div>"
      ],
      "text/plain": [
       "  Criteria  Train_set  Test_set\n",
       "0      MAE      8.197     8.407\n",
       "1    MAPE%      5.296     5.397\n",
       "2     RMSE     11.373    11.541"
      ]
     },
     "execution_count": 70,
     "metadata": {},
     "output_type": "execute_result"
    }
   ],
   "source": [
    "# Neural Network - Model Evaluation\n",
    "print(\"Neural Network - Model Evaluation \\n\")\n",
    "neural_net = pd.DataFrame({\n",
    "    'Criteria' : ['MAE','MAPE%', 'RMSE'],\n",
    "    'Train_set' : [round(mae(Y_train, Ytrain_predict_nn),3),round(mape(Y_train, Ytrain_predict_nn)*100,3), round(np.sqrt(mse(Y_train, Ytrain_predict_nn)),3)],\n",
    "    'Test_set' : [round(mae(Y_test, Ytest_predict_nn),3), round(mape(Y_test, Ytest_predict_nn)*100,3) , round(np.sqrt(mse(Y_test, Ytest_predict_nn)),3)],\n",
    "})\n",
    "neural_net"
   ]
  },
  {
   "cell_type": "markdown",
   "id": "cMPYbuSPMLz0",
   "metadata": {
    "id": "cMPYbuSPMLz0"
   },
   "source": [
    "# Compare Models"
   ]
  },
  {
   "cell_type": "markdown",
   "id": "CMuWaUG4-tQh",
   "metadata": {
    "id": "CMuWaUG4-tQh"
   },
   "source": [
    "RMSE"
   ]
  },
  {
   "cell_type": "code",
   "execution_count": 71,
   "id": "qrcaMxvA25Ki",
   "metadata": {
    "id": "qrcaMxvA25Ki"
   },
   "outputs": [
    {
     "data": {
      "text/html": [
       "<div>\n",
       "<style scoped>\n",
       "    .dataframe tbody tr th:only-of-type {\n",
       "        vertical-align: middle;\n",
       "    }\n",
       "\n",
       "    .dataframe tbody tr th {\n",
       "        vertical-align: top;\n",
       "    }\n",
       "\n",
       "    .dataframe thead th {\n",
       "        text-align: right;\n",
       "    }\n",
       "</style>\n",
       "<table border=\"1\" class=\"dataframe\">\n",
       "  <thead>\n",
       "    <tr style=\"text-align: right;\">\n",
       "      <th></th>\n",
       "      <th>Model</th>\n",
       "      <th>RMSE</th>\n",
       "      <th>Train_or_Test</th>\n",
       "    </tr>\n",
       "  </thead>\n",
       "  <tbody>\n",
       "    <tr>\n",
       "      <th>0</th>\n",
       "      <td>Linear Reg.</td>\n",
       "      <td>17.234333</td>\n",
       "      <td>Train</td>\n",
       "    </tr>\n",
       "    <tr>\n",
       "      <th>1</th>\n",
       "      <td>Ridge Reg.</td>\n",
       "      <td>17.234355</td>\n",
       "      <td>Train</td>\n",
       "    </tr>\n",
       "    <tr>\n",
       "      <th>2</th>\n",
       "      <td>Lasso Reg.</td>\n",
       "      <td>17.234337</td>\n",
       "      <td>Train</td>\n",
       "    </tr>\n",
       "    <tr>\n",
       "      <th>3</th>\n",
       "      <td>Elastic Net Reg.</td>\n",
       "      <td>17.234333</td>\n",
       "      <td>Train</td>\n",
       "    </tr>\n",
       "    <tr>\n",
       "      <th>4</th>\n",
       "      <td>Random Forest</td>\n",
       "      <td>2.768994</td>\n",
       "      <td>Train</td>\n",
       "    </tr>\n",
       "    <tr>\n",
       "      <th>5</th>\n",
       "      <td>Neural Network</td>\n",
       "      <td>11.372727</td>\n",
       "      <td>Train</td>\n",
       "    </tr>\n",
       "    <tr>\n",
       "      <th>6</th>\n",
       "      <td>Linear Reg.</td>\n",
       "      <td>17.014622</td>\n",
       "      <td>Test</td>\n",
       "    </tr>\n",
       "    <tr>\n",
       "      <th>7</th>\n",
       "      <td>Ridge Reg.</td>\n",
       "      <td>17.013937</td>\n",
       "      <td>Test</td>\n",
       "    </tr>\n",
       "    <tr>\n",
       "      <th>8</th>\n",
       "      <td>Lasso Reg.</td>\n",
       "      <td>17.014486</td>\n",
       "      <td>Test</td>\n",
       "    </tr>\n",
       "    <tr>\n",
       "      <th>9</th>\n",
       "      <td>Elastic Net Reg.</td>\n",
       "      <td>17.014622</td>\n",
       "      <td>Test</td>\n",
       "    </tr>\n",
       "    <tr>\n",
       "      <th>10</th>\n",
       "      <td>Random Forest</td>\n",
       "      <td>7.394693</td>\n",
       "      <td>Test</td>\n",
       "    </tr>\n",
       "    <tr>\n",
       "      <th>11</th>\n",
       "      <td>Neural Network</td>\n",
       "      <td>11.540694</td>\n",
       "      <td>Test</td>\n",
       "    </tr>\n",
       "  </tbody>\n",
       "</table>\n",
       "</div>"
      ],
      "text/plain": [
       "               Model       RMSE Train_or_Test\n",
       "0        Linear Reg.  17.234333         Train\n",
       "1         Ridge Reg.  17.234355         Train\n",
       "2         Lasso Reg.  17.234337         Train\n",
       "3   Elastic Net Reg.  17.234333         Train\n",
       "4      Random Forest   2.768994         Train\n",
       "5     Neural Network  11.372727         Train\n",
       "6        Linear Reg.  17.014622          Test\n",
       "7         Ridge Reg.  17.013937          Test\n",
       "8         Lasso Reg.  17.014486          Test\n",
       "9   Elastic Net Reg.  17.014622          Test\n",
       "10     Random Forest   7.394693          Test\n",
       "11    Neural Network  11.540694          Test"
      ]
     },
     "execution_count": 71,
     "metadata": {},
     "output_type": "execute_result"
    }
   ],
   "source": [
    "compareRMSE = pd.DataFrame({\n",
    "    'Model' : ['Linear Reg.','Ridge Reg.', 'Lasso Reg.', 'Elastic Net Reg.', 'Random Forest', 'Neural Network',\n",
    "               'Linear Reg.','Ridge Reg.', 'Lasso Reg.', 'Elastic Net Reg.', 'Random Forest', 'Neural Network'],\n",
    "    'RMSE' : [np.sqrt(mse(Y_train, Ytrain_predict_lm)),np.sqrt(mse(Y_train, Ytrain_predict_rr)), np.sqrt(mse(Y_train, Ytrain_predict_lr)) ,\n",
    "              np.sqrt(mse(Y_train, Ytrain_predict_enet)), np.sqrt(mse(Y_train, Ytrain_predict_rf)), np.sqrt(mse(Y_train, Ytrain_predict_nn)),\n",
    "              np.sqrt(mse(Y_test, Ytest_predict_lm)), np.sqrt(mse(Y_test, Ytest_predict_rr)), np.sqrt(mse(Y_test, Ytest_predict_lr)),\n",
    "              np.sqrt(mse(Y_test, Ytest_predict_enet)), np.sqrt(mse(Y_test, Ytest_predict_rf)), np.sqrt(mse(Y_test, Ytest_predict_nn))],\n",
    "    'Train_or_Test' : ['Train', 'Train', 'Train', 'Train', 'Train','Train','Test','Test','Test','Test','Test', 'Test']\n",
    "})\n",
    "compareRMSE\n"
   ]
  },
  {
   "cell_type": "code",
   "execution_count": null,
   "id": "I-Ly8qHO3Lw9",
   "metadata": {
    "id": "I-Ly8qHO3Lw9"
   },
   "outputs": [],
   "source": [
    "plt.figure(figsize=(15,4))\n",
    "RMSEplot = sns.barplot(x = \"Model\", y = \"RMSE\", hue = \"Train_or_Test\" , data = compareRMSE, palette=\"Blues_r\")\n",
    "plt.xticks(rotation=35)\n",
    "for p in RMSEplot.patches:\n",
    "    RMSEplot.annotate(format(p.get_height(), '.3f'), \n",
    "                   (p.get_x() + p.get_width() / 2., p.get_height()), \n",
    "                   ha = 'center', va = 'center', \n",
    "                   size=12,\n",
    "                   xytext = (0, -12), \n",
    "                   textcoords = 'offset points')\n",
    "plt.title('Model Comparison - RMSE')\n",
    "plt.xlabel('Model')\n",
    "plt.ylabel('RMSE value')\n",
    "plt.show()"
   ]
  },
  {
   "cell_type": "markdown",
   "id": "MYlPKzaV-xBK",
   "metadata": {
    "id": "MYlPKzaV-xBK"
   },
   "source": [
    "MAPE"
   ]
  },
  {
   "cell_type": "code",
   "execution_count": 72,
   "id": "6WlmakZJ-q9O",
   "metadata": {
    "id": "6WlmakZJ-q9O"
   },
   "outputs": [
    {
     "data": {
      "text/html": [
       "<div>\n",
       "<style scoped>\n",
       "    .dataframe tbody tr th:only-of-type {\n",
       "        vertical-align: middle;\n",
       "    }\n",
       "\n",
       "    .dataframe tbody tr th {\n",
       "        vertical-align: top;\n",
       "    }\n",
       "\n",
       "    .dataframe thead th {\n",
       "        text-align: right;\n",
       "    }\n",
       "</style>\n",
       "<table border=\"1\" class=\"dataframe\">\n",
       "  <thead>\n",
       "    <tr style=\"text-align: right;\">\n",
       "      <th></th>\n",
       "      <th>Model</th>\n",
       "      <th>MAPE%</th>\n",
       "      <th>Train_or_Test</th>\n",
       "    </tr>\n",
       "  </thead>\n",
       "  <tbody>\n",
       "    <tr>\n",
       "      <th>0</th>\n",
       "      <td>Linear Reg.</td>\n",
       "      <td>8.603066</td>\n",
       "      <td>Train</td>\n",
       "    </tr>\n",
       "    <tr>\n",
       "      <th>1</th>\n",
       "      <td>Ridge Reg.</td>\n",
       "      <td>8.602184</td>\n",
       "      <td>Train</td>\n",
       "    </tr>\n",
       "    <tr>\n",
       "      <th>2</th>\n",
       "      <td>Lasso Reg.</td>\n",
       "      <td>8.602681</td>\n",
       "      <td>Train</td>\n",
       "    </tr>\n",
       "    <tr>\n",
       "      <th>3</th>\n",
       "      <td>Elastic Net Reg.</td>\n",
       "      <td>8.603066</td>\n",
       "      <td>Train</td>\n",
       "    </tr>\n",
       "    <tr>\n",
       "      <th>4</th>\n",
       "      <td>Random Forest</td>\n",
       "      <td>1.072348</td>\n",
       "      <td>Train</td>\n",
       "    </tr>\n",
       "    <tr>\n",
       "      <th>5</th>\n",
       "      <td>Neural Network</td>\n",
       "      <td>5.296183</td>\n",
       "      <td>Train</td>\n",
       "    </tr>\n",
       "    <tr>\n",
       "      <th>6</th>\n",
       "      <td>Linear Reg.</td>\n",
       "      <td>8.485429</td>\n",
       "      <td>Test</td>\n",
       "    </tr>\n",
       "    <tr>\n",
       "      <th>7</th>\n",
       "      <td>Ridge Reg.</td>\n",
       "      <td>8.484237</td>\n",
       "      <td>Test</td>\n",
       "    </tr>\n",
       "    <tr>\n",
       "      <th>8</th>\n",
       "      <td>Lasso Reg.</td>\n",
       "      <td>8.484988</td>\n",
       "      <td>Test</td>\n",
       "    </tr>\n",
       "    <tr>\n",
       "      <th>9</th>\n",
       "      <td>Elastic Net Reg.</td>\n",
       "      <td>8.485429</td>\n",
       "      <td>Test</td>\n",
       "    </tr>\n",
       "    <tr>\n",
       "      <th>10</th>\n",
       "      <td>Random Forest</td>\n",
       "      <td>2.873154</td>\n",
       "      <td>Test</td>\n",
       "    </tr>\n",
       "    <tr>\n",
       "      <th>11</th>\n",
       "      <td>Neural Network</td>\n",
       "      <td>5.397227</td>\n",
       "      <td>Test</td>\n",
       "    </tr>\n",
       "  </tbody>\n",
       "</table>\n",
       "</div>"
      ],
      "text/plain": [
       "               Model     MAPE% Train_or_Test\n",
       "0        Linear Reg.  8.603066         Train\n",
       "1         Ridge Reg.  8.602184         Train\n",
       "2         Lasso Reg.  8.602681         Train\n",
       "3   Elastic Net Reg.  8.603066         Train\n",
       "4      Random Forest  1.072348         Train\n",
       "5     Neural Network  5.296183         Train\n",
       "6        Linear Reg.  8.485429          Test\n",
       "7         Ridge Reg.  8.484237          Test\n",
       "8         Lasso Reg.  8.484988          Test\n",
       "9   Elastic Net Reg.  8.485429          Test\n",
       "10     Random Forest  2.873154          Test\n",
       "11    Neural Network  5.397227          Test"
      ]
     },
     "execution_count": 72,
     "metadata": {},
     "output_type": "execute_result"
    }
   ],
   "source": [
    "compareMAPE = pd.DataFrame({\n",
    "    'Model' : ['Linear Reg.','Ridge Reg.', 'Lasso Reg.', 'Elastic Net Reg.', 'Random Forest', 'Neural Network',\n",
    "               'Linear Reg.','Ridge Reg.', 'Lasso Reg.', 'Elastic Net Reg.', 'Random Forest', 'Neural Network'],\n",
    "    'MAPE%' : [mape(Y_train, Ytrain_predict_lm)*100,mape(Y_train, Ytrain_predict_rr)*100, mape(Y_train, Ytrain_predict_lr)*100 ,\n",
    "              mape(Y_train, Ytrain_predict_enet)*100, mape(Y_train, Ytrain_predict_rf)*100, mape(Y_train, Ytrain_predict_nn)*100,\n",
    "              mape(Y_test, Ytest_predict_lm)*100, mape(Y_test, Ytest_predict_rr)*100, mape(Y_test, Ytest_predict_lr)*100,\n",
    "              mape(Y_test, Ytest_predict_enet)*100, mape(Y_test, Ytest_predict_rf)*100, mape(Y_test, Ytest_predict_nn)*100],\n",
    "    'Train_or_Test' : ['Train', 'Train', 'Train', 'Train', 'Train','Train','Test','Test','Test','Test','Test', 'Test']\n",
    "})\n",
    "compareMAPE"
   ]
  },
  {
   "cell_type": "code",
   "execution_count": 73,
   "id": "GIcrxJblAa9-",
   "metadata": {
    "id": "GIcrxJblAa9-"
   },
   "outputs": [
    {
     "data": {
      "image/png": "[encoded data removed]",
      "text/plain": [
       "<Figure size 1080x216 with 1 Axes>"
      ]
     },
     "metadata": {
      "needs_background": "light"
     },
     "output_type": "display_data"
    }
   ],
   "source": [
    "plt.figure(figsize=(15,3))\n",
    "MAPEplot = sns.barplot(x = \"Model\", y = \"MAPE%\", hue = \"Train_or_Test\" , data = compareMAPE, palette=\"Blues_r\")\n",
    "plt.xticks(rotation=35)\n",
    "for p in MAPEplot.patches:\n",
    "    MAPEplot.annotate(format(p.get_height(), '.3f'), \n",
    "                   (p.get_x() + p.get_width() / 2., p.get_height()), \n",
    "                   ha = 'center', va = 'center', \n",
    "                   size=12,\n",
    "                   xytext = (0, -12), \n",
    "                   textcoords = 'offset points')\n",
    "plt.title('Model Comparison - MAPE%')\n",
    "plt.xlabel('Model')\n",
    "plt.ylabel('MAPE%')\n",
    "plt.show()"
   ]
  },
  {
   "cell_type": "markdown",
   "id": "tocTAfyPEwfO",
   "metadata": {
    "id": "tocTAfyPEwfO"
   },
   "source": [
    "# Saving the model"
   ]
  },
  {
   "cell_type": "code",
   "execution_count": 74,
   "id": "1ksFPOFI1QnM",
   "metadata": {
    "id": "1ksFPOFI1QnM"
   },
   "outputs": [],
   "source": [
    "filename = 'IPLModel.pkl'\n",
    "pickle.dump(g_search, open(filename, 'wb'))"
   ]
  }
 ],
 "metadata": {
  "accelerator": "GPU",
  "colab": {
   "collapsed_sections": [],
   "name": "IPL 1st inning score prediction.ipynb",
   "provenance": []
  },
  "kernelspec": {
   "display_name": "Python 3 (ipykernel)",
   "language": "python",
   "name": "python3"
  },
  "language_info": {
   "codemirror_mode": {
    "name": "ipython",
    "version": 3
   },
   "file_extension": ".py",
   "mimetype": "text/x-python",
   "name": "python",
   "nbconvert_exporter": "python",
   "pygments_lexer": "ipython3",
   "version": "3.9.7"
  }
 },
 "nbformat": 4,
 "nbformat_minor": 5
}
